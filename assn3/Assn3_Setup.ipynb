{
 "cells": [
  {
   "cell_type": "code",
   "execution_count": 22,
   "metadata": {},
   "outputs": [],
   "source": [
    "import json\n",
    "from collections import Counter\n",
    "from nltk.stem.porter import PorterStemmer\n",
    "\n",
    "from sklearn.feature_extraction.text import TfidfVectorizer\n",
    "from sklearn.feature_extraction.text import CountVectorizer\n",
    "from sklearn.decomposition import TruncatedSVD\n",
    "from sklearn.preprocessing import Normalizer\n",
    "from sklearn.pipeline import make_pipeline\n",
    "from sklearn.cluster import KMeans\n",
    "from sklearn import metrics\n",
    "from sklearn.preprocessing import LabelEncoder\n",
    "from sklearn.manifold import TSNE\n",
    "\n",
    "import matplotlib.pyplot as plt\n",
    "from matplotlib import offsetbox\n",
    "import pandas as pd\n",
    "import numpy as np\n",
    "\n",
    "from gensim.models.doc2vec import Doc2Vec, TaggedDocument\n",
    "from gensim.test.utils import get_tmpfile"
   ]
  },
  {
   "cell_type": "code",
   "execution_count": 23,
   "metadata": {},
   "outputs": [
    {
     "name": "stdout",
     "output_type": "stream",
     "text": [
      "Number of documents in corpus:  546\n"
     ]
    }
   ],
   "source": [
    "with open('/home/meeka/Desktop/NU/453/assn3/json_texts_labels.json', 'r') as read_file:\n",
    "    corpus_wLabels=json.load(read_file)\n",
    "    \n",
    "with open('/home/meeka/Desktop/NU/453/assn3/json_texts_orig.json', 'r') as read_file:\n",
    "    corpus_wTitles=json.load(read_file)\n",
    "    \n",
    "vocab_dir='/home/meeka/Desktop/NU/453/assn2/vocab.txt'\n",
    "file=open(vocab_dir, 'r')\n",
    "vocab=file.read()\n",
    "file.close()\n",
    "print('Number of documents in corpus: ', len(corpus_wLabels))"
   ]
  },
  {
   "cell_type": "markdown",
   "metadata": {},
   "source": [
    "Following sections derived from:\n",
    "https://towardsdatascience.com/multi-class-text-classification-with-scikit-learn-12f1e60e0a9f"
   ]
  },
  {
   "cell_type": "code",
   "execution_count": 68,
   "metadata": {},
   "outputs": [
    {
     "name": "stdout",
     "output_type": "stream",
     "text": [
      "'ETHICS':\n",
      "  . Most correlated unigrams:\n",
      ". morality\n",
      ". moral\n",
      "  . Most correlated bigrams:\n",
      ". moral properties\n",
      ". moral judgments\n",
      "'LANGUAGE':\n",
      "  . Most correlated unigrams:\n",
      ". propositions\n",
      ". proposition\n",
      "  . Most correlated bigrams:\n",
      ". propositions expressed\n",
      ". private language\n",
      "'LOGIC':\n",
      "  . Most correlated unigrams:\n",
      ". logic\n",
      ". logics\n",
      "  . Most correlated bigrams:\n",
      ". logical consequence\n",
      ". logical constants\n",
      "'MATHEMATICS':\n",
      "  . Most correlated unigrams:\n",
      ". brouwer\n",
      ". mathematics\n",
      "  . Most correlated bigrams:\n",
      ". set theory\n",
      ". philosophy mathematics\n",
      "'MIND':\n",
      "  . Most correlated unigrams:\n",
      ". cognitive\n",
      ". mental\n",
      "  . Most correlated bigrams:\n",
      ". cognitive science\n",
      ". mental states\n",
      "'PHENOMENOLOGY':\n",
      "  . Most correlated unigrams:\n",
      ". phenomenal\n",
      ". experiences\n",
      "  . Most correlated bigrams:\n",
      ". deflationary theory\n",
      ". phenomenal character\n"
     ]
    }
   ],
   "source": [
    "from sklearn.feature_selection import chi2\n",
    "from sklearn.feature_extraction.text import TfidfVectorizer\n",
    "\n",
    "corp_text=list(corpus_wLabels.keys())\n",
    "labels=list(corpus_wLabels.values())\n",
    "titles=list(corpus_wTitles.keys())\n",
    "X_corp=[]\n",
    "\n",
    "le = LabelEncoder()\n",
    "y=le.fit_transform(labels)\n",
    "\n",
    "category_to_id=dict(zip(labels,y))\n",
    "id_to_category = dict(zip(y,labels))\n",
    "\n",
    "\n",
    "df=pd.DataFrame(zip(labels,y, titles, corp_text), columns=['category', 'category_id', 'titles', 'text'])\n",
    "category_id_df = df[['category', 'category_id']].drop_duplicates().sort_values('category_id')\n",
    "\n",
    "\n",
    "for text in corp_text:\n",
    "    tokens=text.split()\n",
    "    tokens=[w for w in tokens if w in vocab]\n",
    "    wtokens=' '.join(tokens)\n",
    "    X_corp.append(wtokens)\n",
    "\n",
    "tfidf = TfidfVectorizer(sublinear_tf=True, min_df=5, norm='l2', encoding='latin-1', ngram_range=(1, 2), stop_words='english')\n",
    "features = tfidf.fit_transform(X_corp).toarray()\n",
    "features.shape\n",
    "\n",
    "N=2\n",
    "for Product, category_id in sorted(category_to_id.items()):\n",
    "    features_chi2 = chi2(features, y == category_id)\n",
    "    indices = np.argsort(features_chi2[0])\n",
    "    feature_names = np.array(tfidf.get_feature_names())[indices]\n",
    "    unigrams = [v for v in feature_names if len(v.split(' ')) == 1]\n",
    "    bigrams = [v for v in feature_names if len(v.split(' ')) == 2]\n",
    "    print(\"'{}':\".format(Product.upper()))\n",
    "    print(\"  . Most correlated unigrams:\\n. {}\".format('\\n. '.join(unigrams[-N:])))\n",
    "    print(\"  . Most correlated bigrams:\\n. {}\".format('\\n. '.join(bigrams[-N:])))"
   ]
  },
  {
   "cell_type": "code",
   "execution_count": 69,
   "metadata": {},
   "outputs": [
    {
     "data": {
      "image/png": "[encoded data removed]",
      "text/plain": [
       "<Figure size 720x432 with 1 Axes>"
      ]
     },
     "metadata": {
      "needs_background": "light"
     },
     "output_type": "display_data"
    },
    {
     "name": "stdout",
     "output_type": "stream",
     "text": [
      "model_name\n",
      "LinearSVC                 0.805855\n",
      "LogisticRegression        0.754579\n",
      "MultinomialNB             0.542185\n",
      "RandomForestClassifier    0.459750\n",
      "Name: accuracy, dtype: float64\n"
     ]
    }
   ],
   "source": [
    "from sklearn.linear_model import LogisticRegression\n",
    "from sklearn.ensemble import RandomForestClassifier\n",
    "from sklearn.svm import LinearSVC\n",
    "from sklearn.naive_bayes import MultinomialNB\n",
    "from sklearn.model_selection import cross_val_score\n",
    "import seaborn as sns\n",
    "\n",
    "features = tfidf.fit_transform(X_corp).toarray()\n",
    "labels=y\n",
    "\n",
    "models = [\n",
    "    RandomForestClassifier(n_estimators=200, max_depth=3, random_state=0),\n",
    "    LinearSVC(), MultinomialNB(), LogisticRegression(random_state=0),\n",
    "]\n",
    "\n",
    "CV = 5\n",
    "cv_df = pd.DataFrame(index=range(CV * len(models)))\n",
    "entries = []\n",
    "\n",
    "for model in models:\n",
    "    model_name = model.__class__.__name__\n",
    "    accuracies = cross_val_score(model, features, labels, scoring='accuracy', cv=CV)\n",
    "    for fold_idx, accuracy in enumerate(accuracies):\n",
    "        entries.append((model_name, fold_idx, accuracy))\n",
    "\n",
    "cv_df = pd.DataFrame(entries, columns=['model_name', 'fold_idx', 'accuracy'])\n",
    "\n",
    "plt.figure(figsize=(10,6))\n",
    "sns.boxplot(x='model_name', y='accuracy', data=cv_df)\n",
    "sns.stripplot(x='model_name', y='accuracy', data=cv_df,size=8, jitter=True, edgecolor=\"gray\", linewidth=2)\n",
    "plt.show()\n",
    "print(cv_df.groupby('model_name').accuracy.mean())"
   ]
  },
  {
   "cell_type": "code",
   "execution_count": 70,
   "metadata": {},
   "outputs": [
    {
     "data": {
      "image/png": "[encoded data removed]",
      "text/plain": [
       "<Figure size 864x576 with 2 Axes>"
      ]
     },
     "metadata": {
      "needs_background": "light"
     },
     "output_type": "display_data"
    },
    {
     "name": "stdout",
     "output_type": "stream",
     "text": [
      "               precision    recall  f1-score   support\n",
      "\n",
      "         mind       1.00      0.65      0.79        17\n",
      "phenomenology       0.59      0.62      0.60        21\n",
      "       ethics       0.68      0.74      0.71        31\n",
      "        logic       0.85      0.74      0.79        23\n",
      "  mathematics       0.60      0.98      0.75        54\n",
      "     language       1.00      0.17      0.29        35\n",
      "\n",
      "     accuracy                           0.68       181\n",
      "    macro avg       0.79      0.65      0.65       181\n",
      " weighted avg       0.76      0.68      0.64       181\n",
      "\n",
      "None\n"
     ]
    }
   ],
   "source": [
    "from sklearn.model_selection import train_test_split\n",
    "from sklearn.metrics import confusion_matrix\n",
    "\n",
    "X_train, X_test, y_train, y_test, indices_train, indices_test = train_test_split(features, labels, df.index, test_size=0.33, random_state=0)\n",
    "model.fit(X_train, y_train)\n",
    "y_pred = model.predict(X_test)\n",
    "\n",
    "conf_mat = confusion_matrix(y_test, y_pred)\n",
    "fig, ax = plt.subplots(figsize=(12,8))\n",
    "sns.heatmap(conf_mat, annot=True, fmt='d',xticklabels=category_id_df.category.values, yticklabels=category_id_df.category.values)\n",
    "plt.ylabel('Actual')\n",
    "plt.xlabel('Predicted')\n",
    "plt.show()\n",
    "\n",
    "print(print(metrics.classification_report(y_test, y_pred, target_names=df['category'].unique())))"
   ]
  },
  {
   "cell_type": "code",
   "execution_count": 71,
   "metadata": {},
   "outputs": [
    {
     "name": "stdout",
     "output_type": "stream",
     "text": [
      "'phenomenology' predicted as 'logic' : 6 examples.\n"
     ]
    },
    {
     "data": {
      "text/html": [
       "<div>\n",
       "<style scoped>\n",
       "    .dataframe tbody tr th:only-of-type {\n",
       "        vertical-align: middle;\n",
       "    }\n",
       "\n",
       "    .dataframe tbody tr th {\n",
       "        vertical-align: top;\n",
       "    }\n",
       "\n",
       "    .dataframe thead th {\n",
       "        text-align: right;\n",
       "    }\n",
       "</style>\n",
       "<table border=\"1\" class=\"dataframe\">\n",
       "  <thead>\n",
       "    <tr style=\"text-align: right;\">\n",
       "      <th></th>\n",
       "      <th>category</th>\n",
       "      <th>titles</th>\n",
       "    </tr>\n",
       "  </thead>\n",
       "  <tbody>\n",
       "    <tr>\n",
       "      <th>436</th>\n",
       "      <td>phenomenology</td>\n",
       "      <td>Rudolf Carnap_2 Toward the Aufbau.txt</td>\n",
       "    </tr>\n",
       "    <tr>\n",
       "      <th>46</th>\n",
       "      <td>phenomenology</td>\n",
       "      <td>Carl Hempel_4 Scientific Explanations .txt</td>\n",
       "    </tr>\n",
       "    <tr>\n",
       "      <th>276</th>\n",
       "      <td>phenomenology</td>\n",
       "      <td>Modal Logic_6 Possible Worlds Semantics.txt</td>\n",
       "    </tr>\n",
       "    <tr>\n",
       "      <th>400</th>\n",
       "      <td>phenomenology</td>\n",
       "      <td>Logicism and Neologicism_5 Modal NeoLogicism.txt</td>\n",
       "    </tr>\n",
       "    <tr>\n",
       "      <th>533</th>\n",
       "      <td>phenomenology</td>\n",
       "      <td>Necessary and Sufficient Conditions_2 The Stan...</td>\n",
       "    </tr>\n",
       "    <tr>\n",
       "      <th>154</th>\n",
       "      <td>phenomenology</td>\n",
       "      <td>Tarskis Truth Definitions_3 The 1956 definitio...</td>\n",
       "    </tr>\n",
       "  </tbody>\n",
       "</table>\n",
       "</div>"
      ],
      "text/plain": [
       "          category                                             titles\n",
       "436  phenomenology              Rudolf Carnap_2 Toward the Aufbau.txt\n",
       "46   phenomenology         Carl Hempel_4 Scientific Explanations .txt\n",
       "276  phenomenology        Modal Logic_6 Possible Worlds Semantics.txt\n",
       "400  phenomenology   Logicism and Neologicism_5 Modal NeoLogicism.txt\n",
       "533  phenomenology  Necessary and Sufficient Conditions_2 The Stan...\n",
       "154  phenomenology  Tarskis Truth Definitions_3 The 1956 definitio..."
      ]
     },
     "metadata": {},
     "output_type": "display_data"
    },
    {
     "name": "stdout",
     "output_type": "stream",
     "text": [
      "\n",
      "'ethics' predicted as 'mind' : 6 examples.\n"
     ]
    },
    {
     "data": {
      "text/html": [
       "<div>\n",
       "<style scoped>\n",
       "    .dataframe tbody tr th:only-of-type {\n",
       "        vertical-align: middle;\n",
       "    }\n",
       "\n",
       "    .dataframe tbody tr th {\n",
       "        vertical-align: top;\n",
       "    }\n",
       "\n",
       "    .dataframe thead th {\n",
       "        text-align: right;\n",
       "    }\n",
       "</style>\n",
       "<table border=\"1\" class=\"dataframe\">\n",
       "  <thead>\n",
       "    <tr style=\"text-align: right;\">\n",
       "      <th></th>\n",
       "      <th>category</th>\n",
       "      <th>titles</th>\n",
       "    </tr>\n",
       "  </thead>\n",
       "  <tbody>\n",
       "    <tr>\n",
       "      <th>503</th>\n",
       "      <td>ethics</td>\n",
       "      <td>Immanuel Kant_5 Morality and freedom.txt</td>\n",
       "    </tr>\n",
       "    <tr>\n",
       "      <th>242</th>\n",
       "      <td>ethics</td>\n",
       "      <td>Virtue Ethics_4 Future Directions.txt</td>\n",
       "    </tr>\n",
       "    <tr>\n",
       "      <th>108</th>\n",
       "      <td>ethics</td>\n",
       "      <td>Thomas Reid_6 Moral Philosophy.txt</td>\n",
       "    </tr>\n",
       "    <tr>\n",
       "      <th>202</th>\n",
       "      <td>ethics</td>\n",
       "      <td>Moral Psychology  Empirical Approaches_6 Moral...</td>\n",
       "    </tr>\n",
       "    <tr>\n",
       "      <th>101</th>\n",
       "      <td>ethics</td>\n",
       "      <td>Moral Psychology  Empirical Approaches_3 Moral...</td>\n",
       "    </tr>\n",
       "    <tr>\n",
       "      <th>437</th>\n",
       "      <td>ethics</td>\n",
       "      <td>Alfred North Whitehead_7 Religion.txt</td>\n",
       "    </tr>\n",
       "  </tbody>\n",
       "</table>\n",
       "</div>"
      ],
      "text/plain": [
       "    category                                             titles\n",
       "503   ethics           Immanuel Kant_5 Morality and freedom.txt\n",
       "242   ethics              Virtue Ethics_4 Future Directions.txt\n",
       "108   ethics                 Thomas Reid_6 Moral Philosophy.txt\n",
       "202   ethics  Moral Psychology  Empirical Approaches_6 Moral...\n",
       "101   ethics  Moral Psychology  Empirical Approaches_3 Moral...\n",
       "437   ethics              Alfred North Whitehead_7 Religion.txt"
      ]
     },
     "metadata": {},
     "output_type": "display_data"
    },
    {
     "name": "stdout",
     "output_type": "stream",
     "text": [
      "\n",
      "'language' predicted as 'mind' : 5 examples.\n"
     ]
    },
    {
     "data": {
      "text/html": [
       "<div>\n",
       "<style scoped>\n",
       "    .dataframe tbody tr th:only-of-type {\n",
       "        vertical-align: middle;\n",
       "    }\n",
       "\n",
       "    .dataframe tbody tr th {\n",
       "        vertical-align: top;\n",
       "    }\n",
       "\n",
       "    .dataframe thead th {\n",
       "        text-align: right;\n",
       "    }\n",
       "</style>\n",
       "<table border=\"1\" class=\"dataframe\">\n",
       "  <thead>\n",
       "    <tr style=\"text-align: right;\">\n",
       "      <th></th>\n",
       "      <th>category</th>\n",
       "      <th>titles</th>\n",
       "    </tr>\n",
       "  </thead>\n",
       "  <tbody>\n",
       "    <tr>\n",
       "      <th>406</th>\n",
       "      <td>language</td>\n",
       "      <td>Reference_1 Introduction.txt</td>\n",
       "    </tr>\n",
       "    <tr>\n",
       "      <th>172</th>\n",
       "      <td>language</td>\n",
       "      <td>Skepticism_3 The Argument for Cartesian Skepti...</td>\n",
       "    </tr>\n",
       "    <tr>\n",
       "      <th>293</th>\n",
       "      <td>language</td>\n",
       "      <td>Otto Neurath_2 From economic theory to scienti...</td>\n",
       "    </tr>\n",
       "    <tr>\n",
       "      <th>354</th>\n",
       "      <td>language</td>\n",
       "      <td>Private Language_3 The Private Language Argume...</td>\n",
       "    </tr>\n",
       "    <tr>\n",
       "      <th>272</th>\n",
       "      <td>language</td>\n",
       "      <td>Religious Language_2 The Content of Religious ...</td>\n",
       "    </tr>\n",
       "  </tbody>\n",
       "</table>\n",
       "</div>"
      ],
      "text/plain": [
       "     category                                             titles\n",
       "406  language                       Reference_1 Introduction.txt\n",
       "172  language  Skepticism_3 The Argument for Cartesian Skepti...\n",
       "293  language  Otto Neurath_2 From economic theory to scienti...\n",
       "354  language  Private Language_3 The Private Language Argume...\n",
       "272  language  Religious Language_2 The Content of Religious ..."
      ]
     },
     "metadata": {},
     "output_type": "display_data"
    },
    {
     "name": "stdout",
     "output_type": "stream",
     "text": [
      "\n",
      "'phenomenology' predicted as 'mind' : 19 examples.\n"
     ]
    },
    {
     "data": {
      "text/html": [
       "<div>\n",
       "<style scoped>\n",
       "    .dataframe tbody tr th:only-of-type {\n",
       "        vertical-align: middle;\n",
       "    }\n",
       "\n",
       "    .dataframe tbody tr th {\n",
       "        vertical-align: top;\n",
       "    }\n",
       "\n",
       "    .dataframe thead th {\n",
       "        text-align: right;\n",
       "    }\n",
       "</style>\n",
       "<table border=\"1\" class=\"dataframe\">\n",
       "  <thead>\n",
       "    <tr style=\"text-align: right;\">\n",
       "      <th></th>\n",
       "      <th>category</th>\n",
       "      <th>titles</th>\n",
       "    </tr>\n",
       "  </thead>\n",
       "  <tbody>\n",
       "    <tr>\n",
       "      <th>137</th>\n",
       "      <td>phenomenology</td>\n",
       "      <td>Alfred North Whitehead_6 Metaphysics.txt</td>\n",
       "    </tr>\n",
       "    <tr>\n",
       "      <th>142</th>\n",
       "      <td>phenomenology</td>\n",
       "      <td>Abstract Objects_3 The Way of Negation.txt</td>\n",
       "    </tr>\n",
       "    <tr>\n",
       "      <th>15</th>\n",
       "      <td>phenomenology</td>\n",
       "      <td>Abstract Objects_4 The Way of Example.txt</td>\n",
       "    </tr>\n",
       "    <tr>\n",
       "      <th>185</th>\n",
       "      <td>phenomenology</td>\n",
       "      <td>Abstract Objects_2 Historical Remarks.txt</td>\n",
       "    </tr>\n",
       "    <tr>\n",
       "      <th>438</th>\n",
       "      <td>phenomenology</td>\n",
       "      <td>States of Affairs_4 States of Affairs as Compl...</td>\n",
       "    </tr>\n",
       "    <tr>\n",
       "      <th>540</th>\n",
       "      <td>phenomenology</td>\n",
       "      <td>Phenomenal Intentionality_5 Cognitive phenomen...</td>\n",
       "    </tr>\n",
       "    <tr>\n",
       "      <th>348</th>\n",
       "      <td>phenomenology</td>\n",
       "      <td>The Contents of Perception_9 Directions for Fu...</td>\n",
       "    </tr>\n",
       "    <tr>\n",
       "      <th>401</th>\n",
       "      <td>phenomenology</td>\n",
       "      <td>The Problem of Perception_2 The Problem of Per...</td>\n",
       "    </tr>\n",
       "    <tr>\n",
       "      <th>71</th>\n",
       "      <td>phenomenology</td>\n",
       "      <td>Representational Theories of Consciousness_3 A...</td>\n",
       "    </tr>\n",
       "    <tr>\n",
       "      <th>190</th>\n",
       "      <td>phenomenology</td>\n",
       "      <td>The Contents of Perception_8 Theories of Inten...</td>\n",
       "    </tr>\n",
       "    <tr>\n",
       "      <th>132</th>\n",
       "      <td>phenomenology</td>\n",
       "      <td>Logical Constructions_9 The Construction of Ma...</td>\n",
       "    </tr>\n",
       "    <tr>\n",
       "      <th>118</th>\n",
       "      <td>phenomenology</td>\n",
       "      <td>Sense Data_3 Objections to Sense Data.txt</td>\n",
       "    </tr>\n",
       "    <tr>\n",
       "      <th>264</th>\n",
       "      <td>phenomenology</td>\n",
       "      <td>Connectionism_6 Connectionist Representation.txt</td>\n",
       "    </tr>\n",
       "    <tr>\n",
       "      <th>490</th>\n",
       "      <td>phenomenology</td>\n",
       "      <td>Qualia_3 Are Qualia Irreducible NonPhysical En...</td>\n",
       "    </tr>\n",
       "    <tr>\n",
       "      <th>428</th>\n",
       "      <td>phenomenology</td>\n",
       "      <td>Alfred Jules Ayer_3 Perception.txt</td>\n",
       "    </tr>\n",
       "    <tr>\n",
       "      <th>319</th>\n",
       "      <td>phenomenology</td>\n",
       "      <td>Moritz Schlick_4 Special Relativity.txt</td>\n",
       "    </tr>\n",
       "    <tr>\n",
       "      <th>386</th>\n",
       "      <td>phenomenology</td>\n",
       "      <td>Consciousness and Intentionality_7 Consciousne...</td>\n",
       "    </tr>\n",
       "    <tr>\n",
       "      <th>124</th>\n",
       "      <td>phenomenology</td>\n",
       "      <td>The Problem of Perception_1 The Ordinary Conce...</td>\n",
       "    </tr>\n",
       "    <tr>\n",
       "      <th>59</th>\n",
       "      <td>phenomenology</td>\n",
       "      <td>Mental Representation_3 Conceptual and NonConc...</td>\n",
       "    </tr>\n",
       "  </tbody>\n",
       "</table>\n",
       "</div>"
      ],
      "text/plain": [
       "          category                                             titles\n",
       "137  phenomenology           Alfred North Whitehead_6 Metaphysics.txt\n",
       "142  phenomenology         Abstract Objects_3 The Way of Negation.txt\n",
       "15   phenomenology          Abstract Objects_4 The Way of Example.txt\n",
       "185  phenomenology          Abstract Objects_2 Historical Remarks.txt\n",
       "438  phenomenology  States of Affairs_4 States of Affairs as Compl...\n",
       "540  phenomenology  Phenomenal Intentionality_5 Cognitive phenomen...\n",
       "348  phenomenology  The Contents of Perception_9 Directions for Fu...\n",
       "401  phenomenology  The Problem of Perception_2 The Problem of Per...\n",
       "71   phenomenology  Representational Theories of Consciousness_3 A...\n",
       "190  phenomenology  The Contents of Perception_8 Theories of Inten...\n",
       "132  phenomenology  Logical Constructions_9 The Construction of Ma...\n",
       "118  phenomenology          Sense Data_3 Objections to Sense Data.txt\n",
       "264  phenomenology   Connectionism_6 Connectionist Representation.txt\n",
       "490  phenomenology  Qualia_3 Are Qualia Irreducible NonPhysical En...\n",
       "428  phenomenology                 Alfred Jules Ayer_3 Perception.txt\n",
       "319  phenomenology            Moritz Schlick_4 Special Relativity.txt\n",
       "386  phenomenology  Consciousness and Intentionality_7 Consciousne...\n",
       "124  phenomenology  The Problem of Perception_1 The Ordinary Conce...\n",
       "59   phenomenology  Mental Representation_3 Conceptual and NonConc..."
      ]
     },
     "metadata": {},
     "output_type": "display_data"
    },
    {
     "name": "stdout",
     "output_type": "stream",
     "text": [
      "\n"
     ]
    }
   ],
   "source": [
    "from IPython.display import display\n",
    "\n",
    "for predicted in category_id_df.category_id:\n",
    "    for actual in category_id_df.category_id:\n",
    "        if predicted != actual and conf_mat[actual, predicted] >= 5:\n",
    "            print(\"'{}' predicted as '{}' : {} examples.\".format(id_to_category[actual], id_to_category[predicted], conf_mat[actual, predicted]))\n",
    "            display(df.loc[indices_test[(y_test == actual) & (y_pred == predicted)]][['category', 'titles']])\n",
    "            print('')"
   ]
  },
  {
   "cell_type": "code",
   "execution_count": 65,
   "metadata": {},
   "outputs": [
    {
     "name": "stdout",
     "output_type": "stream",
     "text": [
      "# 'ethics':\n",
      "  . Top unigrams:\n",
      "       . moral\n",
      "       . ethics\n",
      "  . Top bigrams:\n",
      "       . moral judgments\n",
      "       . moral properties\n",
      "# 'language':\n",
      "  . Top unigrams:\n",
      "       . proposition\n",
      "       . propositions\n",
      "  . Top bigrams:\n",
      "       . proposition true\n",
      "       . natural language\n",
      "# 'logic':\n",
      "  . Top unigrams:\n",
      "       . logic\n",
      "       . logical\n",
      "  . Top bigrams:\n",
      "       . logical constants\n",
      "       . logical consequence\n",
      "# 'mathematics':\n",
      "  . Top unigrams:\n",
      "       . mathematics\n",
      "       . mathematical\n",
      "  . Top bigrams:\n",
      "       . set theory\n",
      "       . philosophy mathematics\n",
      "# 'mind':\n",
      "  . Top unigrams:\n",
      "       . mental\n",
      "       . knowledge\n",
      "  . Top bigrams:\n",
      "       . mental states\n",
      "       . mental state\n",
      "# 'phenomenology':\n",
      "  . Top unigrams:\n",
      "       . experience\n",
      "       . experiences\n",
      "  . Top bigrams:\n",
      "       . deflationary theory\n",
      "       . abstract objects\n"
     ]
    }
   ],
   "source": [
    "model.fit(features, labels)\n",
    "N = 2\n",
    "for Product, category_id in sorted(category_to_id.items()):\n",
    "    indices = np.argsort(model.coef_[category_id])\n",
    "    feature_names = np.array(tfidf.get_feature_names())[indices]\n",
    "    unigrams = [v for v in reversed(feature_names) if len(v.split(' ')) == 1][:N]\n",
    "    bigrams = [v for v in reversed(feature_names) if len(v.split(' ')) == 2][:N]\n",
    "    print(\"# '{}':\".format(Product))\n",
    "    print(\"  . Top unigrams:\\n       . {}\".format('\\n       . '.join(unigrams)))\n",
    "    print(\"  . Top bigrams:\\n       . {}\".format('\\n       . '.join(bigrams)))"
   ]
  },
  {
   "cell_type": "code",
   "execution_count": null,
   "metadata": {},
   "outputs": [],
   "source": []
  },
  {
   "cell_type": "code",
   "execution_count": null,
   "metadata": {},
   "outputs": [],
   "source": []
  },
  {
   "cell_type": "code",
   "execution_count": null,
   "metadata": {},
   "outputs": [],
   "source": []
  },
  {
   "cell_type": "code",
   "execution_count": 86,
   "metadata": {},
   "outputs": [
    {
     "name": "stdout",
     "output_type": "stream",
     "text": [
      "Full corpus filtered vocab size: 2316\n"
     ]
    }
   ],
   "source": [
    "corp_text=list(corpus_wLabels.keys())\n",
    "labels=list(corpus_wLabels.values())\n",
    "X_corp=[]\n",
    "corp_words=Counter()\n",
    "\n",
    "le = LabelEncoder()\n",
    "y=le.fit_transform(labels)\n",
    "\n",
    "stopwords=['however','whether','even','may','given','one','also','way', 'every','simply','terms','kind','claim',\n",
    "           'would','two','first','seems','seem','false','might','without','simple', 'like','see','view','example']\n",
    "\n",
    "for text in corp_text:\n",
    "    tokens=text.split()\n",
    "    tokens=[w for w in tokens if w in vocab]\n",
    "    tokens=[w for w in tokens if not w in stopwords]\n",
    "    porter=PorterStemmer()\n",
    "    tokens=[porter.stem(word) for word in tokens]\n",
    "    corp_words.update(tokens)\n",
    "    wtokens=' '.join(tokens)\n",
    "    X_corp.append(wtokens)\n",
    "\n",
    "print('Full corpus filtered vocab size after stemming: %d' % len(corp_words))"
   ]
  },
  {
   "cell_type": "code",
   "execution_count": 108,
   "metadata": {},
   "outputs": [
    {
     "name": "stdout",
     "output_type": "stream",
     "text": [
      "Explained variance of the SVD step: 19%\n"
     ]
    },
    {
     "data": {
      "image/png": "[encoded data removed]",
      "text/plain": [
       "<Figure size 864x288 with 2 Axes>"
      ]
     },
     "metadata": {
      "needs_background": "light"
     },
     "output_type": "display_data"
    },
    {
     "name": "stdout",
     "output_type": "stream",
     "text": [
      "\n",
      "Homogeneity: 0.326\n",
      "Completeness: 0.318\n",
      "V-measure: 0.322\n",
      "Adjusted Rand-Index: 0.208\n",
      "Silhouette Coefficient: 0.542\n",
      "\n",
      "Cluster 0: theori experi proposit content object state logic properti mental differ\n",
      "Cluster 1: proposit logic theori truth set true relat number express object\n",
      "Cluster 2: experi content theori state mental object properti represent belief differ\n",
      "Cluster 3: experi theori content state mental object properti differ represent belief\n",
      "Cluster 4: proposit logic set theori truth true number relat express sentenc\n",
      "Cluster 5: proposit logic theori object truth true relat set use concept\n"
     ]
    }
   ],
   "source": [
    "#Count Vectorizer Clusters\n",
    "\n",
    "CV=CountVectorizer()\n",
    "X_cv=CV.fit_transform(X_corp)\n",
    "\n",
    "svd=TruncatedSVD()\n",
    "normalizer=Normalizer(copy=False)\n",
    "lsa=make_pipeline(svd,normalizer)\n",
    "X=lsa.fit_transform(X_cv)\n",
    "explained_variance = svd.explained_variance_ratio_.sum()\n",
    "print(\"Explained variance of the SVD step: {}%\".format(int(explained_variance * 100)))\n",
    "\n",
    "wcss=[]\n",
    "ss=[]\n",
    "for i in range(2,20):\n",
    "    km=KMeans(n_clusters=i, init='k-means++', max_iter=100, n_init=1)\n",
    "    km.fit(X)\n",
    "    ss.append(metrics.silhouette_score(X, km.labels_))\n",
    "    wcss.append(km.inertia_)\n",
    "\n",
    "\n",
    "fig, (ax1, ax2) = plt.subplots(1, 2, figsize=(12,4))   \n",
    "ax1.plot(range(2,20),wcss)\n",
    "ax1.set_title('WCSS')\n",
    "ax1.set_xlabel('Number of clusters')\n",
    "ax1.set_ylabel('WCSS')\n",
    "ax2.plot(range(2,20),ss)\n",
    "ax2.set_title('Silhouette Scoring')\n",
    "ax2.set_xlabel('Number of clusters')\n",
    "ax2.set_ylabel('Silhouette Score')\n",
    "plt.tight_layout()\n",
    "plt.show()\n",
    "\n",
    "n_clust=6\n",
    "km=KMeans(n_clusters=n_clust, init='k-means++', max_iter=100, n_init=1)\n",
    "km.fit(X)\n",
    "\n",
    "print()\n",
    "print(\"Homogeneity: %0.3f\" % metrics.homogeneity_score(labels, km.labels_))\n",
    "print(\"Completeness: %0.3f\" % metrics.completeness_score(labels, km.labels_))\n",
    "print(\"V-measure: %0.3f\" % metrics.v_measure_score(labels, km.labels_))\n",
    "print(\"Adjusted Rand-Index: %.3f\" % metrics.adjusted_rand_score(labels, km.labels_))\n",
    "print(\"Silhouette Coefficient: %0.3f\" % metrics.silhouette_score(X, km.labels_))\n",
    "print()\n",
    "\n",
    "CV_Clusters=km.labels_\n",
    "\n",
    "original_space_centroids = svd.inverse_transform(km.cluster_centers_)\n",
    "order_centroids = original_space_centroids.argsort()[:, ::-1]\n",
    "terms = CV.get_feature_names()\n",
    "\n",
    "for i in range(n_clust):\n",
    "    print(\"Cluster %d:\" % i, end='')\n",
    "    for ind in order_centroids[i, :10]:\n",
    "        print(' %s' % terms[ind], end='')\n",
    "        kterms.append(terms[ind])\n",
    "    print()"
   ]
  },
  {
   "cell_type": "code",
   "execution_count": 112,
   "metadata": {},
   "outputs": [
    {
     "name": "stdout",
     "output_type": "stream",
     "text": [
      "Computing Count Vectorizer t-SNE embedding\n"
     ]
    },
    {
     "data": {
      "image/png": "[encoded data removed]",
      "text/plain": [
       "<Figure size 432x288 with 1 Axes>"
      ]
     },
     "metadata": {},
     "output_type": "display_data"
    }
   ],
   "source": [
    "#T-SNE manifold\n",
    "\n",
    "def plot_embedding(X, title=None):\n",
    "    x_min, x_max = np.min(X, 0), np.max(X, 0)\n",
    "    X = (X - x_min) / (x_max - x_min)\n",
    "    plt.figure()\n",
    "    ax = plt.subplot(111)\n",
    "    for i in range(X.shape[0]):\n",
    "        plt.text(X[i, 0], X[i, 1], str(y[i]),color=plt.cm.Set1(y[i] / 10.), fontdict={'weight': 'bold', 'size': 9})\n",
    "    if hasattr(offsetbox, 'AnnotationBbox'):\n",
    "        shown_images = np.array([[1., 1.]])\n",
    "        for i in range(X.shape[0]):\n",
    "            dist = np.sum((X[i] - shown_images) ** 2, 1)\n",
    "            if np.min(dist) < 4e-3:\n",
    "                continue\n",
    "            shown_images = np.r_[shown_images, [X[i]]]\n",
    "    plt.xticks([]), plt.yticks([])\n",
    "    if title is not None:\n",
    "        plt.title(title)\n",
    "\n",
    "print(\"Computing Count Vectorizer t-SNE embedding\")\n",
    "tsne = TSNE(n_components=2)\n",
    "X_tsne = tsne.fit_transform(X_cv)\n",
    "plot_embedding(X_tsne,\"t-SNE embedding of Documents\")"
   ]
  },
  {
   "cell_type": "code",
   "execution_count": 60,
   "metadata": {},
   "outputs": [
    {
     "data": {
      "text/html": [
       "<div>\n",
       "<style scoped>\n",
       "    .dataframe tbody tr th:only-of-type {\n",
       "        vertical-align: middle;\n",
       "    }\n",
       "\n",
       "    .dataframe tbody tr th {\n",
       "        vertical-align: top;\n",
       "    }\n",
       "\n",
       "    .dataframe thead th {\n",
       "        text-align: right;\n",
       "    }\n",
       "</style>\n",
       "<table border=\"1\" class=\"dataframe\">\n",
       "  <thead>\n",
       "    <tr style=\"text-align: right;\">\n",
       "      <th>cluster</th>\n",
       "      <th>0</th>\n",
       "      <th>1</th>\n",
       "      <th>2</th>\n",
       "      <th>3</th>\n",
       "      <th>4</th>\n",
       "      <th>5</th>\n",
       "    </tr>\n",
       "    <tr>\n",
       "      <th>label</th>\n",
       "      <th></th>\n",
       "      <th></th>\n",
       "      <th></th>\n",
       "      <th></th>\n",
       "      <th></th>\n",
       "      <th></th>\n",
       "    </tr>\n",
       "  </thead>\n",
       "  <tbody>\n",
       "    <tr>\n",
       "      <th>ethics</th>\n",
       "      <td>NaN</td>\n",
       "      <td>21.0</td>\n",
       "      <td>4.0</td>\n",
       "      <td>25.0</td>\n",
       "      <td>NaN</td>\n",
       "      <td>NaN</td>\n",
       "    </tr>\n",
       "    <tr>\n",
       "      <th>language</th>\n",
       "      <td>24.0</td>\n",
       "      <td>NaN</td>\n",
       "      <td>19.0</td>\n",
       "      <td>5.0</td>\n",
       "      <td>NaN</td>\n",
       "      <td>34.0</td>\n",
       "    </tr>\n",
       "    <tr>\n",
       "      <th>logic</th>\n",
       "      <td>60.0</td>\n",
       "      <td>NaN</td>\n",
       "      <td>5.0</td>\n",
       "      <td>1.0</td>\n",
       "      <td>NaN</td>\n",
       "      <td>35.0</td>\n",
       "    </tr>\n",
       "    <tr>\n",
       "      <th>mathematics</th>\n",
       "      <td>33.0</td>\n",
       "      <td>NaN</td>\n",
       "      <td>15.0</td>\n",
       "      <td>1.0</td>\n",
       "      <td>NaN</td>\n",
       "      <td>23.0</td>\n",
       "    </tr>\n",
       "    <tr>\n",
       "      <th>mind</th>\n",
       "      <td>NaN</td>\n",
       "      <td>71.0</td>\n",
       "      <td>9.0</td>\n",
       "      <td>46.0</td>\n",
       "      <td>29.0</td>\n",
       "      <td>4.0</td>\n",
       "    </tr>\n",
       "    <tr>\n",
       "      <th>ontology</th>\n",
       "      <td>2.0</td>\n",
       "      <td>13.0</td>\n",
       "      <td>15.0</td>\n",
       "      <td>11.0</td>\n",
       "      <td>29.0</td>\n",
       "      <td>12.0</td>\n",
       "    </tr>\n",
       "  </tbody>\n",
       "</table>\n",
       "</div>"
      ],
      "text/plain": [
       "cluster         0     1     2     3     4     5\n",
       "label                                          \n",
       "ethics        NaN  21.0   4.0  25.0   NaN   NaN\n",
       "language     24.0   NaN  19.0   5.0   NaN  34.0\n",
       "logic        60.0   NaN   5.0   1.0   NaN  35.0\n",
       "mathematics  33.0   NaN  15.0   1.0   NaN  23.0\n",
       "mind          NaN  71.0   9.0  46.0  29.0   4.0\n",
       "ontology      2.0  13.0  15.0  11.0  29.0  12.0"
      ]
     },
     "execution_count": 60,
     "metadata": {},
     "output_type": "execute_result"
    }
   ],
   "source": [
    "Cluster_DF = pd.DataFrame(zip(labels,km.labels_), columns=['label','cluster'])\n",
    "Cluster_DF['vals']=1\n",
    "table=pd.pivot_table(Cluster_DF, values='vals', index=['label'], columns=['cluster'], aggfunc=np.sum)\n",
    "table"
   ]
  },
  {
   "cell_type": "code",
   "execution_count": 106,
   "metadata": {},
   "outputs": [
    {
     "name": "stdout",
     "output_type": "stream",
     "text": [
      "Explained variance of the SVD step: 4%\n"
     ]
    },
    {
     "data": {
      "image/png": "[encoded data removed]",
      "text/plain": [
       "<Figure size 864x288 with 2 Axes>"
      ]
     },
     "metadata": {
      "needs_background": "light"
     },
     "output_type": "display_data"
    },
    {
     "name": "stdout",
     "output_type": "stream",
     "text": [
      "\n",
      "Homogeneity: 0.380\n",
      "Completeness: 0.372\n",
      "V-measure: 0.376\n",
      "Adjusted Rand-Index: 0.235\n",
      "Silhouette Coefficient: 0.561\n",
      "\n",
      "Cluster 0: logic proposit theori sentenc mathemat object set properti moral truth\n",
      "Cluster 1: logic proposit set mathemat sentenc axiom theori number secondord russel\n",
      "Cluster 2: experi mental content moral state represent properti belief cognit object\n",
      "Cluster 3: logic proposit mathemat set theori sentenc number truth axiom russel\n",
      "Cluster 4: experi mental content moral state represent cognit phenomen belief properti\n",
      "Cluster 5: experi mental content moral proposit state logic theori properti represent\n"
     ]
    }
   ],
   "source": [
    "#TFIDF Clusters\n",
    "\n",
    "TFIDF_CV=TfidfVectorizer()\n",
    "X_tfidf=TFIDF_CV.fit_transform(X_corp)\n",
    "\n",
    "svd=TruncatedSVD()\n",
    "normalizer=Normalizer(copy=False)\n",
    "lsa=make_pipeline(svd,normalizer)\n",
    "X=lsa.fit_transform(X_tfidf)\n",
    "explained_variance = svd.explained_variance_ratio_.sum()\n",
    "print(\"Explained variance of the SVD step: {}%\".format(int(explained_variance * 100)))\n",
    "\n",
    "wcss=[]\n",
    "ss=[]\n",
    "for i in range(2,20):\n",
    "    km=KMeans(n_clusters=i, init='k-means++', max_iter=100, n_init=1)\n",
    "    km.fit(X)\n",
    "    ss.append(metrics.silhouette_score(X, km.labels_))\n",
    "    wcss.append(km.inertia_)\n",
    "\n",
    "\n",
    "fig, (ax1, ax2) = plt.subplots(1, 2, figsize=(12,4))   \n",
    "ax1.plot(range(2,20),wcss)\n",
    "ax1.set_title('WCSS')\n",
    "ax1.set_xlabel('Number of clusters')\n",
    "ax1.set_ylabel('WCSS')\n",
    "ax2.plot(range(2,20),ss)\n",
    "ax2.set_title('Silhouette Scoring')\n",
    "ax2.set_xlabel('Number of clusters')\n",
    "ax2.set_ylabel('Silhouette Score')\n",
    "plt.tight_layout()\n",
    "plt.show()\n",
    "\n",
    "\n",
    "n_clust=6\n",
    "km=KMeans(n_clusters=n_clust, init='k-means++', max_iter=100, n_init=1)\n",
    "km.fit(X)\n",
    "\n",
    "print()\n",
    "print(\"Homogeneity: %0.3f\" % metrics.homogeneity_score(labels, km.labels_))\n",
    "print(\"Completeness: %0.3f\" % metrics.completeness_score(labels, km.labels_))\n",
    "print(\"V-measure: %0.3f\" % metrics.v_measure_score(labels, km.labels_))\n",
    "print(\"Adjusted Rand-Index: %.3f\" % metrics.adjusted_rand_score(labels, km.labels_))\n",
    "print(\"Silhouette Coefficient: %0.3f\" % metrics.silhouette_score(X, km.labels_))\n",
    "print()\n",
    "\n",
    "TFIDF_Clusters=km.labels_\n",
    "\n",
    "original_space_centroids = svd.inverse_transform(km.cluster_centers_)\n",
    "order_centroids = original_space_centroids.argsort()[:, ::-1]\n",
    "terms = TFIDF_CV.get_feature_names()\n",
    "\n",
    "for i in range(n_clust):\n",
    "    print(\"Cluster %d:\" % i, end='')\n",
    "    for ind in order_centroids[i, :10]:\n",
    "        print(' %s' % terms[ind], end='')\n",
    "        kterms.append(terms[ind])\n",
    "    print()"
   ]
  },
  {
   "cell_type": "code",
   "execution_count": 113,
   "metadata": {},
   "outputs": [
    {
     "name": "stdout",
     "output_type": "stream",
     "text": [
      "Computing Count Vectorizer t-SNE embedding\n"
     ]
    },
    {
     "data": {
      "image/png": "[encoded data removed]",
      "text/plain": [
       "<Figure size 432x288 with 1 Axes>"
      ]
     },
     "metadata": {},
     "output_type": "display_data"
    }
   ],
   "source": [
    "#T-SNE manifold\n",
    "\n",
    "def plot_embedding(X, title=None):\n",
    "    x_min, x_max = np.min(X, 0), np.max(X, 0)\n",
    "    X = (X - x_min) / (x_max - x_min)\n",
    "    plt.figure()\n",
    "    ax = plt.subplot(111)\n",
    "    for i in range(X.shape[0]):\n",
    "        plt.text(X[i, 0], X[i, 1], str(y[i]),color=plt.cm.Set1(y[i] / 10.), fontdict={'weight': 'bold', 'size': 9})\n",
    "    if hasattr(offsetbox, 'AnnotationBbox'):\n",
    "        shown_images = np.array([[1., 1.]])\n",
    "        for i in range(X.shape[0]):\n",
    "            dist = np.sum((X[i] - shown_images) ** 2, 1)\n",
    "            if np.min(dist) < 4e-3:\n",
    "                continue\n",
    "            shown_images = np.r_[shown_images, [X[i]]]\n",
    "    plt.xticks([]), plt.yticks([])\n",
    "    if title is not None:\n",
    "        plt.title(title)\n",
    "\n",
    "print(\"Computing Count Vectorizer t-SNE embedding\")\n",
    "tsne = TSNE(n_components=2,)\n",
    "X_tsne = tsne.fit_transform(X_tfidf)\n",
    "plot_embedding(X_tsne,\"t-SNE embedding of Documents\")"
   ]
  },
  {
   "cell_type": "code",
   "execution_count": 62,
   "metadata": {},
   "outputs": [
    {
     "data": {
      "text/html": [
       "<div>\n",
       "<style scoped>\n",
       "    .dataframe tbody tr th:only-of-type {\n",
       "        vertical-align: middle;\n",
       "    }\n",
       "\n",
       "    .dataframe tbody tr th {\n",
       "        vertical-align: top;\n",
       "    }\n",
       "\n",
       "    .dataframe thead th {\n",
       "        text-align: right;\n",
       "    }\n",
       "</style>\n",
       "<table border=\"1\" class=\"dataframe\">\n",
       "  <thead>\n",
       "    <tr style=\"text-align: right;\">\n",
       "      <th>cluster</th>\n",
       "      <th>0</th>\n",
       "      <th>1</th>\n",
       "      <th>2</th>\n",
       "      <th>3</th>\n",
       "      <th>4</th>\n",
       "      <th>5</th>\n",
       "    </tr>\n",
       "    <tr>\n",
       "      <th>label</th>\n",
       "      <th></th>\n",
       "      <th></th>\n",
       "      <th></th>\n",
       "      <th></th>\n",
       "      <th></th>\n",
       "      <th></th>\n",
       "    </tr>\n",
       "  </thead>\n",
       "  <tbody>\n",
       "    <tr>\n",
       "      <th>ethics</th>\n",
       "      <td>35.0</td>\n",
       "      <td>NaN</td>\n",
       "      <td>1.0</td>\n",
       "      <td>NaN</td>\n",
       "      <td>1.0</td>\n",
       "      <td>13.0</td>\n",
       "    </tr>\n",
       "    <tr>\n",
       "      <th>language</th>\n",
       "      <td>NaN</td>\n",
       "      <td>35.0</td>\n",
       "      <td>NaN</td>\n",
       "      <td>1.0</td>\n",
       "      <td>36.0</td>\n",
       "      <td>10.0</td>\n",
       "    </tr>\n",
       "    <tr>\n",
       "      <th>logic</th>\n",
       "      <td>NaN</td>\n",
       "      <td>60.0</td>\n",
       "      <td>NaN</td>\n",
       "      <td>29.0</td>\n",
       "      <td>11.0</td>\n",
       "      <td>1.0</td>\n",
       "    </tr>\n",
       "    <tr>\n",
       "      <th>mathematics</th>\n",
       "      <td>NaN</td>\n",
       "      <td>29.0</td>\n",
       "      <td>NaN</td>\n",
       "      <td>33.0</td>\n",
       "      <td>10.0</td>\n",
       "      <td>NaN</td>\n",
       "    </tr>\n",
       "    <tr>\n",
       "      <th>mind</th>\n",
       "      <td>76.0</td>\n",
       "      <td>NaN</td>\n",
       "      <td>29.0</td>\n",
       "      <td>NaN</td>\n",
       "      <td>9.0</td>\n",
       "      <td>45.0</td>\n",
       "    </tr>\n",
       "    <tr>\n",
       "      <th>ontology</th>\n",
       "      <td>10.0</td>\n",
       "      <td>7.0</td>\n",
       "      <td>31.0</td>\n",
       "      <td>1.0</td>\n",
       "      <td>23.0</td>\n",
       "      <td>10.0</td>\n",
       "    </tr>\n",
       "  </tbody>\n",
       "</table>\n",
       "</div>"
      ],
      "text/plain": [
       "cluster         0     1     2     3     4     5\n",
       "label                                          \n",
       "ethics       35.0   NaN   1.0   NaN   1.0  13.0\n",
       "language      NaN  35.0   NaN   1.0  36.0  10.0\n",
       "logic         NaN  60.0   NaN  29.0  11.0   1.0\n",
       "mathematics   NaN  29.0   NaN  33.0  10.0   NaN\n",
       "mind         76.0   NaN  29.0   NaN   9.0  45.0\n",
       "ontology     10.0   7.0  31.0   1.0  23.0  10.0"
      ]
     },
     "execution_count": 62,
     "metadata": {},
     "output_type": "execute_result"
    }
   ],
   "source": [
    "Cluster_DF = pd.DataFrame(zip(labels,km.labels_), columns=['label','cluster'])\n",
    "Cluster_DF['vals']=1\n",
    "table=pd.pivot_table(Cluster_DF, values='vals', index=['label'], columns=['cluster'], aggfunc=np.sum)\n",
    "table"
   ]
  },
  {
   "cell_type": "code",
   "execution_count": 63,
   "metadata": {},
   "outputs": [
    {
     "name": "stdout",
     "output_type": "stream",
     "text": [
      "(546, 50)\n",
      "Explained variance of the SVD step: 8%\n"
     ]
    },
    {
     "data": {
      "image/png": "[encoded data removed]",
      "text/plain": [
       "<Figure size 864x288 with 2 Axes>"
      ]
     },
     "metadata": {
      "needs_background": "light"
     },
     "output_type": "display_data"
    },
    {
     "name": "stdout",
     "output_type": "stream",
     "text": [
      "\n",
      "Homogeneity: 0.309\n",
      "Completeness: 0.300\n",
      "V-measure: 0.304\n",
      "Adjusted Rand-Index: 0.205\n",
      "Silhouette Coefficient: 0.570\n",
      "\n"
     ]
    }
   ],
   "source": [
    "#Analysis 3: Doc2Vec\n",
    "\n",
    "def tokenize_docs(X):\n",
    "    word_tokens=[]\n",
    "    for doc in X:\n",
    "        tokens=doc.split()\n",
    "        word_tokens.append(tokens)\n",
    "    return word_tokens\n",
    "    \n",
    "X_train_tokens=tokenize_docs(X_corp)\n",
    "\n",
    "#50 Dim\n",
    "documents = [TaggedDocument(doc, [i]) for i, doc in enumerate(X_train_tokens)]\n",
    "model_50dim = Doc2Vec(documents, vector_size=50, window=4, min_count=2, epochs=50)\n",
    "model_50dim.train(documents, total_examples = model_50dim.corpus_count, epochs = model_50dim.epochs)\n",
    "\n",
    "#Vectorize Training Set:\n",
    "doc2vec_50_vectors = np.zeros((len(X_train_tokens), 50)) \n",
    "for i in range(0, len(X_train_tokens)):\n",
    "    doc2vec_50_vectors[i,] = model_50dim.infer_vector(X_train_tokens[i]).transpose()\n",
    "print(doc2vec_50_vectors.shape)\n",
    "\n",
    "\n",
    "svd=TruncatedSVD()\n",
    "normalizer=Normalizer(copy=False)\n",
    "lsa=make_pipeline(svd,normalizer)\n",
    "X=lsa.fit_transform(doc2vec_50_vectors)\n",
    "explained_variance = svd.explained_variance_ratio_.sum()\n",
    "print(\"Explained variance of the SVD step: {}%\".format(int(explained_variance * 100)))\n",
    "\n",
    "wcss=[]\n",
    "ss=[]\n",
    "for i in range(2,20):\n",
    "    km=KMeans(n_clusters=i, init='k-means++', max_iter=100, n_init=1)\n",
    "    km.fit(X)\n",
    "    ss.append(metrics.silhouette_score(X, km.labels_))\n",
    "    wcss.append(km.inertia_)\n",
    "\n",
    "\n",
    "fig, (ax1, ax2) = plt.subplots(1, 2, figsize=(12,4))   \n",
    "ax1.plot(range(2,20),wcss)\n",
    "ax1.set_title('WCSS')\n",
    "ax1.set_xlabel('Number of clusters')\n",
    "ax1.set_ylabel('WCSS')\n",
    "ax2.plot(range(2,20),ss)\n",
    "ax2.set_title('Silhouette Scoring')\n",
    "ax2.set_xlabel('Number of clusters')\n",
    "ax2.set_ylabel('Silhouette Score')\n",
    "plt.tight_layout()\n",
    "plt.show()\n",
    "\n",
    "n_clust=6\n",
    "km=KMeans(n_clusters=n_clust, init='k-means++', max_iter=100, n_init=1)\n",
    "km.fit(X)\n",
    "\n",
    "print()\n",
    "print(\"Homogeneity: %0.3f\" % metrics.homogeneity_score(labels, km.labels_))\n",
    "print(\"Completeness: %0.3f\" % metrics.completeness_score(labels, km.labels_))\n",
    "print(\"V-measure: %0.3f\" % metrics.v_measure_score(labels, km.labels_))\n",
    "print(\"Adjusted Rand-Index: %.3f\" % metrics.adjusted_rand_score(labels, km.labels_))\n",
    "print(\"Silhouette Coefficient: %0.3f\" % metrics.silhouette_score(X, km.labels_))\n",
    "print()\n",
    "\n",
    "Doc2Vec_Clusters=km.labels_"
   ]
  },
  {
   "cell_type": "code",
   "execution_count": 114,
   "metadata": {},
   "outputs": [
    {
     "name": "stdout",
     "output_type": "stream",
     "text": [
      "Computing Count Vectorizer t-SNE embedding\n"
     ]
    },
    {
     "data": {
      "image/png": "[encoded data removed]",
      "text/plain": [
       "<Figure size 432x288 with 1 Axes>"
      ]
     },
     "metadata": {},
     "output_type": "display_data"
    }
   ],
   "source": [
    "#Doc2Vec T-SNE manifold\n",
    "\n",
    "def plot_embedding(X, title=None):\n",
    "    x_min, x_max = np.min(X, 0), np.max(X, 0)\n",
    "    X = (X - x_min) / (x_max - x_min)\n",
    "    plt.figure()\n",
    "    ax = plt.subplot(111)\n",
    "    for i in range(X.shape[0]):\n",
    "        plt.text(X[i, 0], X[i, 1], str(y[i]),color=plt.cm.Set1(y[i] / 10.), fontdict={'weight': 'bold', 'size': 9})\n",
    "    if hasattr(offsetbox, 'AnnotationBbox'):\n",
    "        shown_images = np.array([[1., 1.]])\n",
    "        for i in range(X.shape[0]):\n",
    "            dist = np.sum((X[i] - shown_images) ** 2, 1)\n",
    "            if np.min(dist) < 4e-3:\n",
    "                continue\n",
    "            shown_images = np.r_[shown_images, [X[i]]]\n",
    "    plt.xticks([]), plt.yticks([])\n",
    "    if title is not None:\n",
    "        plt.title(title)\n",
    "\n",
    "\n",
    "print(\"Computing Count Vectorizer t-SNE embedding\")\n",
    "tsne = TSNE(n_components=2,)\n",
    "X_tsne = tsne.fit_transform(doc2vec_50_vectors)\n",
    "plot_embedding(X_tsne,\"t-SNE embedding of Documents\")"
   ]
  },
  {
   "cell_type": "markdown",
   "metadata": {},
   "source": [
    "# Summarize Clusters"
   ]
  },
  {
   "cell_type": "code",
   "execution_count": 115,
   "metadata": {},
   "outputs": [],
   "source": [
    "titles=list(corpus_wTitles.keys())\n",
    "clustersets=zip(titles, labels,CV_Clusters,TFIDF_Clusters,Doc2Vec_Clusters)\n",
    "Full_Clusters=pd.DataFrame(clustersets, columns=['titles','labels','CountVec', 'TFIDF', 'Doc2Vec'])\n",
    "Full_Clusters['counts']=1\n",
    "Full_Clusters.to_csv('cluster_groups.csv')"
   ]
  },
  {
   "cell_type": "code",
   "execution_count": 119,
   "metadata": {},
   "outputs": [
    {
     "name": "stdout",
     "output_type": "stream",
     "text": [
      "CountVec            0         1         2         3         4         5\n",
      "labels                                                                 \n",
      "ethics       0.250000       NaN       NaN  0.212389       NaN  0.044776\n",
      "language     0.119565  0.300971       NaN       NaN  0.196262  0.283582\n",
      "logic        0.032609  0.378641       NaN       NaN  0.504673  0.074627\n",
      "mathematics  0.032609  0.223301       NaN       NaN  0.280374  0.238806\n",
      "mind         0.445652  0.019417  0.515625  0.672566       NaN  0.104478\n",
      "ontology     0.119565  0.077670  0.484375  0.115044  0.018692  0.253731\n",
      "\n",
      "TFIDF               0         1         2         3         4         5\n",
      "labels                                                                 \n",
      "ethics       0.024390       NaN  0.297297       NaN  0.016393  0.170732\n",
      "language     0.402439  0.023810       NaN  0.325397       NaN  0.073171\n",
      "logic        0.085366  0.488095       NaN  0.412698       NaN  0.012195\n",
      "mathematics  0.097561  0.464286       NaN  0.198413       NaN       NaN\n",
      "mind         0.121951       NaN  0.612613       NaN  0.475410  0.634146\n",
      "ontology     0.268293  0.023810  0.090090  0.063492  0.508197  0.109756\n",
      "\n",
      "Doc2Vec          0         1         2         3         4         5\n",
      "labels                                                              \n",
      "ethics       0.075  0.162162       NaN  0.313253  0.018519  0.043478\n",
      "language     0.325  0.054054  0.073394  0.144578  0.296296       NaN\n",
      "logic        0.175       NaN  0.348624  0.012048  0.444444       NaN\n",
      "mathematics  0.050       NaN  0.532110  0.024096  0.074074       NaN\n",
      "mind         0.100  0.608108       NaN  0.433735  0.074074  0.673913\n",
      "ontology     0.275  0.175676  0.045872  0.072289  0.092593  0.282609\n"
     ]
    }
   ],
   "source": [
    "Clusters_Crosstab=pd.pivot_table(Full_Clusters, values='counts', index=['labels'], columns=['CountVec'], aggfunc=np.sum)\n",
    "print(Clusters_Crosstab/Clusters_Crosstab.sum())\n",
    "print()\n",
    "Clusters_Crosstab=pd.pivot_table(Full_Clusters, values='counts', index=['labels'], columns=['TFIDF'], aggfunc=np.sum)\n",
    "print(Clusters_Crosstab/Clusters_Crosstab.sum())\n",
    "print()\n",
    "Clusters_Crosstab=pd.pivot_table(Full_Clusters, values='counts', index=['labels'], columns=['Doc2Vec'], aggfunc=np.sum)\n",
    "print(Clusters_Crosstab/Clusters_Crosstab.sum())"
   ]
  },
  {
   "cell_type": "code",
   "execution_count": 78,
   "metadata": {},
   "outputs": [
    {
     "name": "stdout",
     "output_type": "stream",
     "text": [
      "TFIDF        0     1     2     3     4     5\n",
      "CountVec                                    \n",
      "0          NaN  61.0   NaN  56.0   2.0   NaN\n",
      "1         91.0   NaN   9.0   NaN   NaN   5.0\n",
      "2          NaN   7.0   NaN   NaN  50.0  10.0\n",
      "3         24.0   NaN   NaN   NaN   3.0  62.0\n",
      "4          6.0   NaN  52.0   NaN   NaN   NaN\n",
      "5          NaN  63.0   NaN   8.0  35.0   2.0\n",
      "\n",
      "Doc2Vec      0     1     2     3     4     5\n",
      "CountVec                                    \n",
      "0         10.0   NaN  72.0   NaN  37.0   NaN\n",
      "1          2.0  39.0   NaN  19.0   1.0  44.0\n",
      "2         25.0   3.0   5.0  14.0  20.0   NaN\n",
      "3         16.0  21.0   NaN  44.0   6.0   2.0\n",
      "4          NaN  11.0   NaN   1.0   NaN  46.0\n",
      "5         27.0   NaN  32.0   5.0  44.0   NaN\n",
      "\n",
      "Doc2Vec     0     1     2     3     4     5\n",
      "TFIDF                                      \n",
      "0         2.0  45.0   NaN  31.0   NaN  43.0\n",
      "1        16.0   NaN  49.0   NaN  66.0   NaN\n",
      "2         NaN  11.0   NaN   2.0   NaN  48.0\n",
      "3         1.0   NaN  58.0   NaN   5.0   NaN\n",
      "4        47.0   NaN   2.0  12.0  29.0   NaN\n",
      "5        14.0  18.0   NaN  38.0   8.0   1.0\n"
     ]
    }
   ],
   "source": [
    "Clusters_Crosstab=pd.pivot_table(Full_Clusters, values='counts', index=['CountVec'], columns=['TFIDF'], aggfunc=np.sum)\n",
    "print(Clusters_Crosstab)\n",
    "print()\n",
    "Clusters_Crosstab=pd.pivot_table(Full_Clusters, values='counts', index=['CountVec'], columns=['Doc2Vec'], aggfunc=np.sum)\n",
    "print(Clusters_Crosstab)\n",
    "print()\n",
    "Clusters_Crosstab=pd.pivot_table(Full_Clusters, values='counts', index=['TFIDF'], columns=['Doc2Vec'], aggfunc=np.sum)\n",
    "print(Clusters_Crosstab)\n",
    "\n",
    "# Clusters_Crosstab=pd.pivot_table(Full_Clusters, values='counts', index=['CountVec','TFIDF','Doc2Vec'], columns=['labels'], aggfunc=np.sum)\n",
    "# Clusters_Crosstab"
   ]
  },
  {
   "cell_type": "markdown",
   "metadata": {},
   "source": [
    "# Heirarchical Clustering"
   ]
  },
  {
   "cell_type": "code",
   "execution_count": 154,
   "metadata": {},
   "outputs": [
    {
     "data": {
      "image/png": "[encoded data removed]",
      "text/plain": [
       "<Figure size 720x504 with 1 Axes>"
      ]
     },
     "metadata": {
      "needs_background": "light"
     },
     "output_type": "display_data"
    }
   ],
   "source": [
    "import scipy.cluster.hierarchy as shc\n",
    "from sklearn.cluster import AgglomerativeClustering\n",
    "\n",
    "X=X_cv.toarray() \n",
    "plt.figure(figsize=(10, 8))\n",
    "plt.title(\"CountVectorizer Dendograms\")\n",
    "dend = shc.dendrogram(shc.linkage(X, method='ward'))"
   ]
  },
  {
   "cell_type": "code",
   "execution_count": 155,
   "metadata": {},
   "outputs": [],
   "source": [
    "cluster = AgglomerativeClustering(n_clusters=6, affinity='euclidean', linkage='ward')\n",
    "Agglom_CV=cluster.fit_predict(X)"
   ]
  },
  {
   "cell_type": "code",
   "execution_count": 157,
   "metadata": {},
   "outputs": [
    {
     "data": {
      "text/plain": [
       "<matplotlib.collections.PathCollection at 0x7fce7da5e250>"
      ]
     },
     "execution_count": 157,
     "metadata": {},
     "output_type": "execute_result"
    },
    {
     "data": {
      "image/png": "[encoded data removed]",
      "text/plain": [
       "<Figure size 432x288 with 1 Axes>"
      ]
     },
     "metadata": {
      "needs_background": "light"
     },
     "output_type": "display_data"
    }
   ],
   "source": [
    "plt.figure(figsize=(6, 4))\n",
    "plt.scatter(X[:,0], X[:,1], c=cluster.labels_, cmap='rainbow')"
   ]
  },
  {
   "cell_type": "code",
   "execution_count": 159,
   "metadata": {},
   "outputs": [
    {
     "data": {
      "image/png": "[encoded data removed]",
      "text/plain": [
       "<Figure size 720x576 with 1 Axes>"
      ]
     },
     "metadata": {
      "needs_background": "light"
     },
     "output_type": "display_data"
    }
   ],
   "source": [
    "X=X_tfidf.toarray() \n",
    "plt.figure(figsize=(10, 8))\n",
    "plt.title(\"TFIDF Dendograms\")\n",
    "dend = shc.dendrogram(shc.linkage(X, method='ward'))"
   ]
  },
  {
   "cell_type": "code",
   "execution_count": 160,
   "metadata": {},
   "outputs": [],
   "source": [
    "cluster = AgglomerativeClustering(n_clusters=6, affinity='euclidean', linkage='ward')\n",
    "Agglom_TFIDF=cluster.fit_predict(X)"
   ]
  },
  {
   "cell_type": "code",
   "execution_count": 161,
   "metadata": {},
   "outputs": [
    {
     "data": {
      "text/plain": [
       "<matplotlib.collections.PathCollection at 0x7fce7dadbe10>"
      ]
     },
     "execution_count": 161,
     "metadata": {},
     "output_type": "execute_result"
    },
    {
     "data": {
      "image/png": "[encoded data removed]",
      "text/plain": [
       "<Figure size 432x288 with 1 Axes>"
      ]
     },
     "metadata": {
      "needs_background": "light"
     },
     "output_type": "display_data"
    }
   ],
   "source": [
    "plt.figure(figsize=(6, 4))\n",
    "plt.scatter(X[:,0], X[:,1], c=cluster.labels_, cmap='rainbow')"
   ]
  },
  {
   "cell_type": "code",
   "execution_count": 162,
   "metadata": {},
   "outputs": [
    {
     "name": "stdout",
     "output_type": "stream",
     "text": [
      "CV                  0     1         2         3    4    5\n",
      "labels                                                   \n",
      "ethics       0.072727   NaN       NaN  0.109510  NaN  NaN\n",
      "language     0.206061   NaN       NaN  0.132565  1.0  NaN\n",
      "logic        0.030303  0.76       NaN  0.221902  NaN  NaN\n",
      "mathematics  0.084848  0.08       NaN  0.158501  NaN  1.0\n",
      "mind         0.430303   NaN  0.166667  0.250720  NaN  NaN\n",
      "ontology     0.175758  0.16  0.833333  0.126801  NaN  NaN\n",
      "\n",
      "TFIDF               0         1         2         3         4         5\n",
      "labels                                                                 \n",
      "ethics       0.022727       NaN       NaN       NaN       NaN  0.918367\n",
      "language     0.309091       NaN  0.160714  0.043011  0.011628       NaN\n",
      "logic        0.136364       NaN  0.750000  0.301075  0.011628       NaN\n",
      "mathematics  0.077273       NaN  0.017857  0.580645       NaN       NaN\n",
      "mind         0.286364  0.404762  0.017857  0.021505  0.860465  0.040816\n",
      "ontology     0.168182  0.595238  0.053571  0.053763  0.116279  0.040816\n"
     ]
    }
   ],
   "source": [
    "agglom=zip(titles,labels, Agglom_CV, Agglom_TFIDF)\n",
    "Agglom_Clusters=pd.DataFrame(agglom, columns=['titles','labels','CV', 'TFIDF'])\n",
    "Agglom_Clusters['counts']=1\n",
    "Agglom_Clust=pd.pivot_table(Agglom_Clusters, values='counts', index=['labels'], columns=['CV'], aggfunc=np.sum)\n",
    "print(Agglom_Clust/Agglom_Clust.sum())\n",
    "print()\n",
    "Agglom_Clust=pd.pivot_table(Agglom_Clusters, values='counts', index=['labels'], columns=['TFIDF'], aggfunc=np.sum)\n",
    "print(Agglom_Clust/Agglom_Clust.sum())"
   ]
  },
  {
   "cell_type": "code",
   "execution_count": 163,
   "metadata": {},
   "outputs": [
    {
     "data": {
      "text/plain": [
       "546"
      ]
     },
     "execution_count": 163,
     "metadata": {},
     "output_type": "execute_result"
    }
   ],
   "source": [
    "len(Agglom_TFIDF)"
   ]
  },
  {
   "cell_type": "code",
   "execution_count": 167,
   "metadata": {},
   "outputs": [
    {
     "data": {
      "text/plain": [
       "546"
      ]
     },
     "execution_count": 167,
     "metadata": {},
     "output_type": "execute_result"
    }
   ],
   "source": []
  },
  {
   "cell_type": "code",
   "execution_count": null,
   "metadata": {},
   "outputs": [],
   "source": []
  },
  {
   "cell_type": "code",
   "execution_count": null,
   "metadata": {},
   "outputs": [],
   "source": []
  },
  {
   "cell_type": "code",
   "execution_count": null,
   "metadata": {},
   "outputs": [],
   "source": []
  },
  {
   "cell_type": "code",
   "execution_count": null,
   "metadata": {},
   "outputs": [],
   "source": []
  },
  {
   "cell_type": "code",
   "execution_count": null,
   "metadata": {},
   "outputs": [],
   "source": [
    "#Maybe Useful, set distributions and breakups\n",
    "\n",
    "clusters=list(keyterms.keys())\n",
    "keywords=list(keyterms.values())\n",
    "\n",
    "c_subsets=[]\n",
    "\n",
    "for c in clusters:\n",
    "    unique_set=[]\n",
    "    otreset=Counter()\n",
    "    for item in list(zip(clusters,keywords)):\n",
    "        if item[0]==c:\n",
    "            setwords=item[1]\n",
    "            print(c)\n",
    "            print(setwords)\n",
    "        else:\n",
    "            for word in item[1]:\n",
    "                otreset.update([word])\n",
    "    unique_set=[word for word in setwords if not word in list(otreset)]\n",
    "    print(unique_set)"
   ]
  },
  {
   "cell_type": "code",
   "execution_count": null,
   "metadata": {},
   "outputs": [],
   "source": [
    "from sklearn.feature_extraction.text import CountVectorizer\n",
    "from sklearn.cluster import KMeans\n",
    "from sklearn import metrics\n",
    "\n",
    "vectorizer = CountVectorizer()\n",
    "X_CV = vectorizer.fit_transform(X_corp)\n",
    "\n",
    "num_clust=20\n",
    "km=KMeans(n_clusters=num_clust, max_iter=100)\n",
    "km.fit(X_CV)\n",
    "\n",
    "print(\"Homogeneity: %0.3f\" % metrics.homogeneity_score(labels, km.labels_))\n",
    "print(\"Completeness: %0.3f\" % metrics.completeness_score(labels, km.labels_))\n",
    "print(\"V-measure: %0.3f\" % metrics.v_measure_score(labels, km.labels_))\n",
    "print(\"Adjusted Rand-Index: %.3f\" % metrics.adjusted_rand_score(labels, km.labels_))\n",
    "print(\"Silhouette Coefficient: %0.3f\" % metrics.silhouette_score(X, km.labels_))"
   ]
  },
  {
   "cell_type": "code",
   "execution_count": null,
   "metadata": {},
   "outputs": [],
   "source": []
  },
  {
   "cell_type": "code",
   "execution_count": null,
   "metadata": {},
   "outputs": [],
   "source": []
  },
  {
   "cell_type": "code",
   "execution_count": null,
   "metadata": {},
   "outputs": [],
   "source": [
    "print(\"Top terms per cluster\")\n",
    "order_centroids=km.cluster_centers_.argsort()[:,::-1]\n",
    "terms=vectorizer.get_feature_names()\n",
    "for i in range(num_clust):\n",
    "    print(\"Cluster %d:\" %i, end='')\n",
    "    for ind in order_centroids[i,:20]:\n",
    "        print(' %s' % terms[ind], end='')\n",
    "    print()"
   ]
  },
  {
   "cell_type": "code",
   "execution_count": null,
   "metadata": {},
   "outputs": [],
   "source": []
  },
  {
   "cell_type": "code",
   "execution_count": null,
   "metadata": {},
   "outputs": [],
   "source": []
  },
  {
   "cell_type": "code",
   "execution_count": null,
   "metadata": {},
   "outputs": [],
   "source": [
    "from sklearn.feature_extraction.text import TfidfVectorizer\n",
    "TFIDF_CV=TfidfVectorizer(max_features=200)\n",
    "X_tfidf=TFIDF_CV.fit_transform(X)"
   ]
  }
 ],
 "metadata": {
  "kernelspec": {
   "display_name": "Language Py3.7",
   "language": "python",
   "name": "language"
  },
  "language_info": {
   "codemirror_mode": {
    "name": "ipython",
    "version": 3
   },
   "file_extension": ".py",
   "mimetype": "text/x-python",
   "name": "python",
   "nbconvert_exporter": "python",
   "pygments_lexer": "ipython3",
   "version": "3.7.9"
  }
 },
 "nbformat": 4,
 "nbformat_minor": 4
}
