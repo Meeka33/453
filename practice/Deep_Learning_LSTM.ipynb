{
 "cells": [
  {
   "cell_type": "code",
   "execution_count": 1,
   "metadata": {},
   "outputs": [],
   "source": [
    "import tensorflow as tf\n",
    "physical_devices = tf.config.list_physical_devices('GPU')\n",
    "tf.config.experimental.set_memory_growth(physical_devices[0], enable=True)"
   ]
  },
  {
   "cell_type": "code",
   "execution_count": 2,
   "metadata": {},
   "outputs": [],
   "source": [
    "%matplotlib inline"
   ]
  },
  {
   "cell_type": "markdown",
   "metadata": {},
   "source": [
    "# Chapter 3: Data Prep"
   ]
  },
  {
   "cell_type": "code",
   "execution_count": 12,
   "metadata": {},
   "outputs": [
    {
     "name": "stdout",
     "output_type": "stream",
     "text": [
      "Min: 10.000000, Max: 100.000000\n",
      "[[0.        ]\n",
      " [0.11111111]\n",
      " [0.22222222]\n",
      " [0.33333333]\n",
      " [0.44444444]\n",
      " [0.55555556]\n",
      " [0.66666667]\n",
      " [0.77777778]\n",
      " [0.88888889]\n",
      " [1.        ]]\n",
      "[[ 10.]\n",
      " [ 20.]\n",
      " [ 30.]\n",
      " [ 40.]\n",
      " [ 50.]\n",
      " [ 60.]\n",
      " [ 70.]\n",
      " [ 80.]\n",
      " [ 90.]\n",
      " [100.]]\n"
     ]
    }
   ],
   "source": [
    "from pandas import Series\n",
    "from sklearn.preprocessing import MinMaxScaler\n",
    "\n",
    "data=[10.0, 20.0, 30.0, 40.0, 50.0, 60.0, 70.0, 80.0, 90.0, 100.0]\n",
    "series=Series(data)\n",
    "values=series.values\n",
    "values=values.reshape((len(values), 1))\n",
    "\n",
    "scaler=MinMaxScaler(feature_range=(0,1))\n",
    "scaler=scaler.fit(values)\n",
    "print('Min: %f, Max: %f' % (scaler.data_min_, scaler.data_max_))\n",
    "\n",
    "normalized=scaler.transform(values)\n",
    "print(normalized)\n",
    "\n",
    "inversed=scaler.inverse_transform(normalized)\n",
    "print(inversed)"
   ]
  },
  {
   "cell_type": "code",
   "execution_count": 14,
   "metadata": {},
   "outputs": [
    {
     "name": "stdout",
     "output_type": "stream",
     "text": [
      "Mean: 5.355556, Std: 2.712568\n",
      "[[-1.60569456]\n",
      " [ 0.05325007]\n",
      " [ 1.34354035]\n",
      " [-1.01584758]\n",
      " [ 1.26980948]\n",
      " [-0.86838584]\n",
      " [-0.46286604]\n",
      " [ 0.93802055]\n",
      " [ 0.34817357]]\n",
      "[[1. ]\n",
      " [5.5]\n",
      " [9. ]\n",
      " [2.6]\n",
      " [8.8]\n",
      " [3. ]\n",
      " [4.1]\n",
      " [7.9]\n",
      " [6.3]]\n"
     ]
    }
   ],
   "source": [
    "from pandas import Series\n",
    "from sklearn.preprocessing import StandardScaler\n",
    "from math import sqrt\n",
    "\n",
    "data=[1.0, 5.5, 9.0, 2.6, 8.8, 3.0, 4.1, 7.9, 6.3]\n",
    "series=Series(data)\n",
    "values=series.values\n",
    "values=values.reshape((len(values),1))\n",
    "\n",
    "scaler=StandardScaler()\n",
    "scaler=scaler.fit(values)\n",
    "print('Mean: %f, Std: %f' % (scaler.mean_, sqrt(scaler.var_)))\n",
    "\n",
    "standardized=scaler.transform(values)\n",
    "print(standardized)\n",
    "inversed=scaler.inverse_transform(standardized)\n",
    "print(inversed)"
   ]
  },
  {
   "cell_type": "code",
   "execution_count": 21,
   "metadata": {},
   "outputs": [
    {
     "name": "stdout",
     "output_type": "stream",
     "text": [
      "['cold' 'cold' 'warm' 'cold' 'hot' 'hot' 'warm' 'cold' 'warm' 'hot'][0 0 2 0 1 1 2 0 2 1]\n",
      "[[1. 0. 0.]\n",
      " [1. 0. 0.]\n",
      " [0. 0. 1.]\n",
      " [1. 0. 0.]\n",
      " [0. 1. 0.]\n",
      " [0. 1. 0.]\n",
      " [0. 0. 1.]\n",
      " [1. 0. 0.]\n",
      " [0. 0. 1.]\n",
      " [0. 1. 0.]]\n",
      "['cold']\n"
     ]
    }
   ],
   "source": [
    "from numpy import array, argmax\n",
    "from sklearn.preprocessing import LabelEncoder, OneHotEncoder\n",
    "\n",
    "data=['cold', 'cold', 'warm','cold','hot','hot','warm','cold','warm','hot']\n",
    "values=array(data)\n",
    "print(values, end=\"\")\n",
    "label_encoder=LabelEncoder()\n",
    "integer_encoded=label_encoder.fit_transform(values)\n",
    "print(integer_encoded)\n",
    "\n",
    "onehot_encoder=OneHotEncoder(sparse=False, categories='auto')\n",
    "integer_encoded=integer_encoded.reshape(len(integer_encoded),1)\n",
    "onehot_encoded=onehot_encoder.fit_transform(integer_encoded)\n",
    "print(onehot_encoded)\n",
    "\n",
    "inverted=label_encoder.inverse_transform([argmax(onehot_encoded[0,:])])\n",
    "print(inverted)"
   ]
  },
  {
   "cell_type": "code",
   "execution_count": 30,
   "metadata": {},
   "outputs": [
    {
     "name": "stdout",
     "output_type": "stream",
     "text": [
      "[[1 2 3 4]\n",
      " [0 1 2 3]\n",
      " [0 0 0 1]] \n",
      "\n",
      "[[1 2 3 4]\n",
      " [1 2 3 0]\n",
      " [1 0 0 0]] \n",
      "\n",
      "[[3 4]\n",
      " [2 3]\n",
      " [0 1]] \n",
      "\n",
      "[[1 2]\n",
      " [1 2]\n",
      " [0 1]]\n"
     ]
    }
   ],
   "source": [
    "from keras.preprocessing.sequence import pad_sequences\n",
    "\n",
    "sequences=[[1,2,3,4],[1,2,3],[1]]\n",
    "\n",
    "padded=pad_sequences(sequences)\n",
    "print(padded, '\\n')\n",
    "\n",
    "padded_right=pad_sequences(sequences, padding='post')\n",
    "print(padded_right, '\\n')\n",
    "\n",
    "truncated=pad_sequences(sequences, maxlen=2)\n",
    "print(truncated, '\\n')\n",
    "\n",
    "truncated_right=pad_sequences(sequences, maxlen=2, truncating='post')\n",
    "print(truncated_right)"
   ]
  },
  {
   "cell_type": "code",
   "execution_count": 33,
   "metadata": {},
   "outputs": [
    {
     "name": "stdout",
     "output_type": "stream",
     "text": [
      "   t\n",
      "0  0\n",
      "1  1\n",
      "2  2\n",
      "3  3\n",
      "4  4\n",
      "5  5\n",
      "6  6\n",
      "7  7\n",
      "8  8\n",
      "9  9\n",
      "   t  t-1\n",
      "0  0  NaN\n",
      "1  1  0.0\n",
      "2  2  1.0\n",
      "3  3  2.0\n",
      "4  4  3.0\n",
      "5  5  4.0\n",
      "6  6  5.0\n",
      "7  7  6.0\n",
      "8  8  7.0\n",
      "9  9  8.0\n",
      "   t  t-1  t+1\n",
      "0  0  NaN  1.0\n",
      "1  1  0.0  2.0\n",
      "2  2  1.0  3.0\n",
      "3  3  2.0  4.0\n",
      "4  4  3.0  5.0\n",
      "5  5  4.0  6.0\n",
      "6  6  5.0  7.0\n",
      "7  7  6.0  8.0\n",
      "8  8  7.0  9.0\n",
      "9  9  8.0  NaN\n"
     ]
    }
   ],
   "source": [
    "from pandas import DataFrame\n",
    "\n",
    "df=DataFrame()\n",
    "df['t']=[x for x in range(10)]\n",
    "print(df)\n",
    "\n",
    "df['t-1']=df['t'].shift(1)\n",
    "print(df)\n",
    "\n",
    "df['t+1']=df['t'].shift(-1)\n",
    "print(df)"
   ]
  },
  {
   "cell_type": "markdown",
   "metadata": {},
   "source": [
    "# Ch 6: Original LSTM 1997"
   ]
  },
  {
   "cell_type": "code",
   "execution_count": 2,
   "metadata": {},
   "outputs": [
    {
     "name": "stdout",
     "output_type": "stream",
     "text": [
      "Model: \"sequential\"\n",
      "_________________________________________________________________\n",
      "Layer (type)                 Output Shape              Param #   \n",
      "=================================================================\n",
      "lstm (LSTM)                  (None, 25)                3600      \n",
      "_________________________________________________________________\n",
      "dense (Dense)                (None, 10)                260       \n",
      "=================================================================\n",
      "Total params: 3,860\n",
      "Trainable params: 3,860\n",
      "Non-trainable params: 0\n",
      "_________________________________________________________________\n",
      "1/1 - 0s - loss: 2.4942 - accuracy: 0.0000e+00\n",
      "1/1 - 0s - loss: 2.3253 - accuracy: 0.0000e+00\n",
      "1/1 - 0s - loss: 2.2458 - accuracy: 0.0000e+00\n",
      "1/1 - 0s - loss: 2.2726 - accuracy: 0.0000e+00\n",
      "1/1 - 0s - loss: 2.3428 - accuracy: 0.0000e+00\n",
      "1/1 - 0s - loss: 2.2731 - accuracy: 0.0000e+00\n",
      "1/1 - 0s - loss: 2.3391 - accuracy: 0.0000e+00\n",
      "1/1 - 0s - loss: 2.2989 - accuracy: 0.0000e+00\n",
      "1/1 - 0s - loss: 2.3264 - accuracy: 0.0000e+00\n",
      "1/1 - 0s - loss: 2.2542 - accuracy: 0.0000e+00\n",
      "1/1 - 0s - loss: 2.3624 - accuracy: 0.0000e+00\n",
      "1/1 - 0s - loss: 2.2297 - accuracy: 1.0000\n",
      "1/1 - 0s - loss: 2.2443 - accuracy: 1.0000\n",
      "1/1 - 0s - loss: 2.2676 - accuracy: 0.0000e+00\n",
      "1/1 - 0s - loss: 2.3452 - accuracy: 0.0000e+00\n",
      "1/1 - 0s - loss: 2.2166 - accuracy: 1.0000\n",
      "1/1 - 0s - loss: 2.3123 - accuracy: 0.0000e+00\n",
      "1/1 - 0s - loss: 2.2887 - accuracy: 0.0000e+00\n",
      "1/1 - 0s - loss: 2.2403 - accuracy: 0.0000e+00\n",
      "1/1 - 0s - loss: 2.2822 - accuracy: 0.0000e+00\n",
      "1/1 - 0s - loss: 2.3720 - accuracy: 0.0000e+00\n",
      "1/1 - 0s - loss: 2.2047 - accuracy: 0.0000e+00\n",
      "1/1 - 0s - loss: 2.2791 - accuracy: 0.0000e+00\n",
      "1/1 - 0s - loss: 2.2463 - accuracy: 0.0000e+00\n",
      "1/1 - 0s - loss: 2.3395 - accuracy: 0.0000e+00\n",
      "1/1 - 0s - loss: 2.2683 - accuracy: 0.0000e+00\n",
      "1/1 - 0s - loss: 2.2157 - accuracy: 0.0000e+00\n",
      "1/1 - 0s - loss: 2.3104 - accuracy: 0.0000e+00\n",
      "1/1 - 0s - loss: 2.2413 - accuracy: 0.0000e+00\n",
      "1/1 - 0s - loss: 2.2411 - accuracy: 0.0000e+00\n",
      "1/1 - 0s - loss: 2.3915 - accuracy: 0.0000e+00\n",
      "1/1 - 0s - loss: 2.3540 - accuracy: 0.0000e+00\n",
      "1/1 - 0s - loss: 2.3459 - accuracy: 0.0000e+00\n",
      "1/1 - 0s - loss: 2.2626 - accuracy: 0.0000e+00\n",
      "1/1 - 0s - loss: 2.2872 - accuracy: 0.0000e+00\n",
      "1/1 - 0s - loss: 2.2280 - accuracy: 0.0000e+00\n",
      "1/1 - 0s - loss: 2.3546 - accuracy: 0.0000e+00\n",
      "1/1 - 0s - loss: 2.2985 - accuracy: 0.0000e+00\n",
      "1/1 - 0s - loss: 2.3950 - accuracy: 0.0000e+00\n",
      "1/1 - 0s - loss: 2.3506 - accuracy: 0.0000e+00\n",
      "1/1 - 0s - loss: 2.2459 - accuracy: 0.0000e+00\n",
      "1/1 - 0s - loss: 2.3058 - accuracy: 0.0000e+00\n",
      "1/1 - 0s - loss: 2.3183 - accuracy: 0.0000e+00\n",
      "1/1 - 0s - loss: 2.2901 - accuracy: 0.0000e+00\n",
      "1/1 - 0s - loss: 2.1418 - accuracy: 1.0000\n",
      "1/1 - 0s - loss: 2.4112 - accuracy: 0.0000e+00\n",
      "1/1 - 0s - loss: 2.3114 - accuracy: 0.0000e+00\n",
      "1/1 - 0s - loss: 2.3440 - accuracy: 0.0000e+00\n",
      "1/1 - 0s - loss: 2.2370 - accuracy: 0.0000e+00\n",
      "1/1 - 0s - loss: 2.3717 - accuracy: 0.0000e+00\n",
      "1/1 - 0s - loss: 2.3121 - accuracy: 0.0000e+00\n",
      "1/1 - 0s - loss: 2.3743 - accuracy: 0.0000e+00\n",
      "1/1 - 0s - loss: 2.4057 - accuracy: 0.0000e+00\n",
      "1/1 - 0s - loss: 2.1980 - accuracy: 1.0000\n",
      "1/1 - 0s - loss: 2.3484 - accuracy: 0.0000e+00\n",
      "1/1 - 0s - loss: 2.2495 - accuracy: 0.0000e+00\n",
      "1/1 - 0s - loss: 2.3483 - accuracy: 0.0000e+00\n",
      "1/1 - 0s - loss: 2.3787 - accuracy: 0.0000e+00\n",
      "1/1 - 0s - loss: 2.3617 - accuracy: 0.0000e+00\n",
      "1/1 - 0s - loss: 2.2735 - accuracy: 0.0000e+00\n",
      "1/1 - 0s - loss: 2.4393 - accuracy: 0.0000e+00\n",
      "1/1 - 0s - loss: 2.3391 - accuracy: 0.0000e+00\n",
      "1/1 - 0s - loss: 2.2288 - accuracy: 0.0000e+00\n",
      "1/1 - 0s - loss: 2.3838 - accuracy: 0.0000e+00\n",
      "1/1 - 0s - loss: 2.3782 - accuracy: 0.0000e+00\n",
      "1/1 - 0s - loss: 2.2923 - accuracy: 0.0000e+00\n",
      "1/1 - 0s - loss: 2.2445 - accuracy: 0.0000e+00\n",
      "1/1 - 0s - loss: 2.2257 - accuracy: 1.0000\n",
      "1/1 - 0s - loss: 2.3048 - accuracy: 0.0000e+00\n",
      "1/1 - 0s - loss: 2.2987 - accuracy: 0.0000e+00\n",
      "1/1 - 0s - loss: 2.4175 - accuracy: 0.0000e+00\n",
      "1/1 - 0s - loss: 2.3567 - accuracy: 0.0000e+00\n",
      "1/1 - 0s - loss: 2.3228 - accuracy: 0.0000e+00\n",
      "1/1 - 0s - loss: 2.3512 - accuracy: 0.0000e+00\n",
      "1/1 - 0s - loss: 2.4150 - accuracy: 0.0000e+00\n",
      "1/1 - 0s - loss: 2.3329 - accuracy: 0.0000e+00\n",
      "1/1 - 0s - loss: 2.3381 - accuracy: 0.0000e+00\n",
      "1/1 - 0s - loss: 2.3576 - accuracy: 0.0000e+00\n",
      "1/1 - 0s - loss: 2.4438 - accuracy: 0.0000e+00\n",
      "1/1 - 0s - loss: 2.2331 - accuracy: 0.0000e+00\n",
      "1/1 - 0s - loss: 2.2425 - accuracy: 0.0000e+00\n",
      "1/1 - 0s - loss: 2.2770 - accuracy: 0.0000e+00\n",
      "1/1 - 0s - loss: 2.3935 - accuracy: 0.0000e+00\n",
      "1/1 - 0s - loss: 2.3062 - accuracy: 0.0000e+00\n",
      "1/1 - 0s - loss: 2.3362 - accuracy: 0.0000e+00\n",
      "1/1 - 0s - loss: 2.2537 - accuracy: 0.0000e+00\n",
      "1/1 - 0s - loss: 2.1539 - accuracy: 1.0000\n",
      "1/1 - 0s - loss: 2.3497 - accuracy: 0.0000e+00\n",
      "1/1 - 0s - loss: 2.3414 - accuracy: 0.0000e+00\n",
      "1/1 - 0s - loss: 2.3599 - accuracy: 0.0000e+00\n",
      "1/1 - 0s - loss: 2.2655 - accuracy: 0.0000e+00\n",
      "1/1 - 0s - loss: 2.3029 - accuracy: 0.0000e+00\n",
      "1/1 - 0s - loss: 2.2888 - accuracy: 0.0000e+00\n",
      "1/1 - 0s - loss: 2.2579 - accuracy: 0.0000e+00\n",
      "1/1 - 0s - loss: 2.2334 - accuracy: 0.0000e+00\n",
      "1/1 - 0s - loss: 2.2104 - accuracy: 0.0000e+00\n",
      "1/1 - 0s - loss: 2.2394 - accuracy: 1.0000\n",
      "1/1 - 0s - loss: 2.2508 - accuracy: 0.0000e+00\n",
      "1/1 - 0s - loss: 2.3254 - accuracy: 0.0000e+00\n",
      "1/1 - 0s - loss: 2.1435 - accuracy: 1.0000\n",
      "Accuracy: 0.000000\n",
      "Accuracy: 0.000000\n",
      "Accuracy: 1.000000\n",
      "Accuracy: 1.000000\n",
      "Accuracy: 2.000000\n",
      "Accuracy: 2.000000\n",
      "Accuracy: 2.000000\n",
      "Accuracy: 2.000000\n",
      "Accuracy: 2.000000\n",
      "Accuracy: 2.000000\n",
      "Accuracy: 2.000000\n",
      "Accuracy: 2.000000\n",
      "Accuracy: 2.000000\n",
      "Accuracy: 2.000000\n",
      "Accuracy: 3.000000\n",
      "Accuracy: 3.000000\n",
      "Accuracy: 3.000000\n",
      "Accuracy: 3.000000\n",
      "Accuracy: 3.000000\n",
      "Accuracy: 3.000000\n",
      "Accuracy: 3.000000\n",
      "Accuracy: 3.000000\n",
      "Accuracy: 3.000000\n",
      "Accuracy: 3.000000\n",
      "Accuracy: 3.000000\n",
      "Accuracy: 3.000000\n",
      "Accuracy: 3.000000\n",
      "Accuracy: 3.000000\n",
      "Accuracy: 4.000000\n",
      "Accuracy: 4.000000\n",
      "Accuracy: 4.000000\n",
      "Accuracy: 4.000000\n",
      "Accuracy: 4.000000\n",
      "Accuracy: 4.000000\n",
      "Accuracy: 4.000000\n",
      "Accuracy: 4.000000\n",
      "Accuracy: 4.000000\n",
      "Accuracy: 4.000000\n",
      "Accuracy: 5.000000\n",
      "Accuracy: 5.000000\n",
      "Accuracy: 5.000000\n",
      "Accuracy: 5.000000\n",
      "Accuracy: 5.000000\n",
      "Accuracy: 5.000000\n",
      "Accuracy: 5.000000\n",
      "Accuracy: 5.000000\n",
      "Accuracy: 5.000000\n",
      "Accuracy: 5.000000\n",
      "Accuracy: 5.000000\n",
      "Accuracy: 5.000000\n",
      "Accuracy: 5.000000\n",
      "Accuracy: 5.000000\n",
      "Accuracy: 5.000000\n",
      "Accuracy: 5.000000\n",
      "Accuracy: 5.000000\n",
      "Accuracy: 5.000000\n",
      "Accuracy: 5.000000\n",
      "Accuracy: 5.000000\n",
      "Accuracy: 5.000000\n",
      "Accuracy: 5.000000\n",
      "Accuracy: 5.000000\n",
      "Accuracy: 5.000000\n",
      "Accuracy: 5.000000\n",
      "Accuracy: 5.000000\n",
      "Accuracy: 5.000000\n",
      "Accuracy: 5.000000\n",
      "Accuracy: 5.000000\n",
      "Accuracy: 5.000000\n",
      "Accuracy: 5.000000\n",
      "Accuracy: 5.000000\n",
      "Accuracy: 5.000000\n",
      "Accuracy: 5.000000\n",
      "Accuracy: 5.000000\n",
      "Accuracy: 5.000000\n",
      "Accuracy: 5.000000\n",
      "Accuracy: 5.000000\n",
      "Accuracy: 5.000000\n",
      "Accuracy: 5.000000\n",
      "Accuracy: 5.000000\n",
      "Accuracy: 5.000000\n",
      "Accuracy: 5.000000\n",
      "Accuracy: 5.000000\n",
      "Accuracy: 6.000000\n",
      "Accuracy: 6.000000\n",
      "Accuracy: 6.000000\n",
      "Accuracy: 6.000000\n",
      "Accuracy: 6.000000\n",
      "Accuracy: 6.000000\n",
      "Accuracy: 6.000000\n",
      "Accuracy: 7.000000\n",
      "Accuracy: 7.000000\n",
      "Accuracy: 7.000000\n",
      "Accuracy: 7.000000\n",
      "Accuracy: 7.000000\n",
      "Accuracy: 7.000000\n",
      "Accuracy: 7.000000\n",
      "Accuracy: 7.000000\n",
      "Accuracy: 8.000000\n",
      "Accuracy: 9.000000\n",
      "Accuracy: 9.000000\n",
      "Sequence: [[6, 7, 6, 9, 3]]\n",
      "Expected: [6]\n",
      "Predicted: [4]\n"
     ]
    }
   ],
   "source": [
    "from random import randint\n",
    "from numpy import array, argmax\n",
    "from keras.models import Sequential\n",
    "from keras.layers import LSTM, Dense\n",
    "\n",
    "def generate_sequence(length, n_features):\n",
    "    return [randint(0, n_features-1) for _ in range(length)]\n",
    "\n",
    "def one_hot_encode(sequence, n_features):\n",
    "    encoding=list()\n",
    "    for value in sequence:\n",
    "        vector=[0 for _ in range(n_features)]\n",
    "        vector[value] = 1\n",
    "        encoding.append(vector)\n",
    "    return array(encoding)\n",
    "\n",
    "def one_hot_decode(encoded_seq):\n",
    "    return [argmax(vector) for vector in encoded_seq]\n",
    "\n",
    "def generate_example(length, n_features, out_index):\n",
    "    sequence=generate_sequence(length, n_features)\n",
    "    encoded=one_hot_encode(sequence, n_features)\n",
    "    X=encoded.reshape((1, length, n_features))\n",
    "    y=encoded[out_index].reshape(1,n_features)\n",
    "    return X, y\n",
    "\n",
    "###\n",
    "length=5\n",
    "n_features=10\n",
    "out_index=2\n",
    "\n",
    "model=Sequential()\n",
    "model.add(LSTM(25, input_shape=(length,n_features)))\n",
    "model.add(Dense(n_features, activation='softmax'))\n",
    "model.compile(loss='categorical_crossentropy', optimizer='adam', metrics=['accuracy'])\n",
    "model.summary()\n",
    "\n",
    "for i in range(100):\n",
    "    X,y=generate_example(length, n_features, out_index)\n",
    "    model.fit(X,y, epochs=1, verbose=2)\n",
    "\n",
    "correct=0\n",
    "for i in range(100):\n",
    "    X,y=generate_example(length, n_features, out_index)\n",
    "    yhat=model.predict(X)\n",
    "    if one_hot_decode(yhat)==one_hot_decode(y):\n",
    "        correct+=1\n",
    "    print('Accuracy: %f' % ((correct/100.0)*100.0))\n",
    "\n",
    "X,y=generate_example(length,n_features,out_index)\n",
    "yhat=model.predict(X)\n",
    "print('Sequence: %s' % [one_hot_decode(x) for x in X])\n",
    "print('Expected: %s' % one_hot_decode(y))\n",
    "print('Predicted: %s' % one_hot_decode(yhat))"
   ]
  },
  {
   "cell_type": "markdown",
   "metadata": {},
   "source": [
    "# Chapter 7: Stacked LSTM  Sine Wave"
   ]
  },
  {
   "cell_type": "code",
   "execution_count": 6,
   "metadata": {},
   "outputs": [
    {
     "data": {
      "image/png": "[encoded data removed]",
      "text/plain": [
       "<Figure size 432x288 with 1 Axes>"
      ]
     },
     "metadata": {
      "needs_background": "light"
     },
     "output_type": "display_data"
    }
   ],
   "source": [
    "%matplotlib inline\n",
    "\n",
    "from math import sin\n",
    "from math import pi\n",
    "from matplotlib import pyplot\n",
    "\n",
    "length=100\n",
    "freq=5\n",
    "sequence=[sin(2*pi*freq*(i/float(length))) for i in range(length)]\n",
    "pyplot.plot(sequence)\n",
    "pyplot.show()"
   ]
  },
  {
   "cell_type": "code",
   "execution_count": 7,
   "metadata": {},
   "outputs": [
    {
     "data": {
      "image/png": "[encoded data removed]",
      "text/plain": [
       "<Figure size 432x288 with 1 Axes>"
      ]
     },
     "metadata": {
      "needs_background": "light"
     },
     "output_type": "display_data"
    }
   ],
   "source": [
    "#Create decaying sine wave function to predict:\n",
    "\n",
    "from math import sin, pi, exp\n",
    "from matplotlib import pyplot\n",
    "length=100\n",
    "period=10\n",
    "decay=0.05\n",
    "sequence=[0.5+0.5*sin(2*pi*i/period) * exp(-decay*i) for i in range(length)]\n",
    "pyplot.plot(sequence)\n",
    "pyplot.show()"
   ]
  },
  {
   "cell_type": "code",
   "execution_count": 11,
   "metadata": {},
   "outputs": [
    {
     "data": {
      "image/png": "[encoded data removed]",
      "text/plain": [
       "<Figure size 432x288 with 1 Axes>"
      ]
     },
     "metadata": {
      "needs_background": "light"
     },
     "output_type": "display_data"
    }
   ],
   "source": [
    "from math import sin, pi, exp\n",
    "from random import randint, uniform\n",
    "from numpy import array\n",
    "from matplotlib import pyplot\n",
    "from keras.models import Sequential\n",
    "from keras.layers import LSTM, Dense\n",
    "\n",
    "\n",
    "def generate_sequence(length, period, decay):\n",
    "    return [0.5+0.5*sin(2*pi*i/period)*exp(-decay*i) for i in range(length)]\n",
    "\n",
    "def generate_examples(length, n_patterns, output):\n",
    "    X,y = list(),list()\n",
    "    for _ in range(n_patterns):\n",
    "        p=randint(10,20)\n",
    "        d=uniform(0.01, 0.1)\n",
    "        sequence=generate_sequence(length+output, p, d)\n",
    "        X.append(sequence[:-output])\n",
    "        y.append(sequence[-output:])\n",
    "    X=array(X).reshape(n_patterns, length, 1)\n",
    "    y=array(y).reshape(n_patterns, output)\n",
    "    return X,y\n",
    "    \n",
    "X,y = generate_examples(20, 5, 5)\n",
    "for i in range(len(X)):\n",
    "    pyplot.plot([x for x in X[i,:,0]]+[x for x in y[i]], '-o')\n",
    "pyplot.show()"
   ]
  },
  {
   "cell_type": "code",
   "execution_count": 14,
   "metadata": {},
   "outputs": [
    {
     "name": "stdout",
     "output_type": "stream",
     "text": [
      "Model: \"sequential_5\"\n",
      "_________________________________________________________________\n",
      "Layer (type)                 Output Shape              Param #   \n",
      "=================================================================\n",
      "lstm_8 (LSTM)                (None, 50, 20)            1760      \n",
      "_________________________________________________________________\n",
      "lstm_9 (LSTM)                (None, 20)                3280      \n",
      "_________________________________________________________________\n",
      "dense_2 (Dense)              (None, 5)                 105       \n",
      "=================================================================\n",
      "Total params: 5,145\n",
      "Trainable params: 5,145\n",
      "Non-trainable params: 0\n",
      "_________________________________________________________________\n",
      "1000/1000 [==============================] - 12s 12ms/step - loss: 0.0455\n",
      "MAE: 0.028485\n"
     ]
    },
    {
     "data": {
      "image/png": "[encoded data removed]",
      "text/plain": [
       "<Figure size 432x288 with 1 Axes>"
      ]
     },
     "metadata": {
      "needs_background": "light"
     },
     "output_type": "display_data"
    }
   ],
   "source": [
    "length=50\n",
    "output=5\n",
    "\n",
    "model=Sequential()\n",
    "model.add(LSTM(20,return_sequences=True, input_shape=(length,1)))\n",
    "model.add(LSTM(20))\n",
    "model.add(Dense(output))\n",
    "model.compile(loss='mae', optimizer='adam')\n",
    "model.summary()\n",
    "\n",
    "X,y=generate_examples(length, 10000, output)\n",
    "history=model.fit(X,y, batch_size=10, epochs=1)\n",
    "\n",
    "X,y=generate_examples(length,1000,output)\n",
    "loss=model.evaluate(X,y, verbose=0)\n",
    "print('MAE: %f' % loss)\n",
    "\n",
    "X, y = generate_examples(length, 1, output)\n",
    "yhat=model.predict(X,verbose=0)\n",
    "pyplot.plot(y[0], label='y')\n",
    "pyplot.plot(yhat[0], label='yhat')\n",
    "pyplot.legend()\n",
    "pyplot.show()"
   ]
  },
  {
   "cell_type": "markdown",
   "metadata": {},
   "source": [
    "# Chapter 8: CNN LSTMs"
   ]
  },
  {
   "cell_type": "code",
   "execution_count": null,
   "metadata": {},
   "outputs": [],
   "source": []
  }
 ],
 "metadata": {
  "kernelspec": {
   "display_name": "Language Py3.7",
   "language": "python",
   "name": "language"
  },
  "language_info": {
   "codemirror_mode": {
    "name": "ipython",
    "version": 3
   },
   "file_extension": ".py",
   "mimetype": "text/x-python",
   "name": "python",
   "nbconvert_exporter": "python",
   "pygments_lexer": "ipython3",
   "version": "3.7.9"
  }
 },
 "nbformat": 4,
 "nbformat_minor": 4
}
